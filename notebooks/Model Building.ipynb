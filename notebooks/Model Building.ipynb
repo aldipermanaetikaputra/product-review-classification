{
  "nbformat": 4,
  "nbformat_minor": 0,
  "metadata": {
    "accelerator": "GPU",
    "colab": {
      "name": "Model Building.ipynb",
      "provenance": [],
      "collapsed_sections": []
    },
    "kernelspec": {
      "display_name": "Python 3",
      "name": "python3"
    },
    "language_info": {
      "name": "python"
    }
  },
  "cells": [
    {
      "cell_type": "code",
      "metadata": {
        "id": "7sTSSQdjCWY_",
        "colab": {
          "base_uri": "https://localhost:8080/"
        },
        "outputId": "7e946bd3-1733-4fdc-8370-bdb1eecd89ba"
      },
      "source": [
        "!pip install keras"
      ],
      "execution_count": null,
      "outputs": [
        {
          "output_type": "stream",
          "name": "stdout",
          "text": [
            "Requirement already satisfied: keras in /usr/local/lib/python3.7/dist-packages (2.7.0)\n"
          ]
        }
      ]
    },
    {
      "cell_type": "markdown",
      "metadata": {
        "id": "vcNiUkB6QJP3"
      },
      "source": [
        "#Load Saved X & Y"
      ]
    },
    {
      "cell_type": "code",
      "metadata": {
        "colab": {
          "base_uri": "https://localhost:8080/",
          "height": 379
        },
        "id": "q3j9WNgEIoIv",
        "outputId": "50a94cd1-4faa-435b-e4ae-5fd1a80ab64e"
      },
      "source": [
        "import pandas as pd\n",
        "X_train = pd.read_csv(\"data_x_train.csv\")\n",
        "X_test = pd.read_csv(\"data_x_test.csv\")\n",
        "Y_train = pd.read_csv(\"data_y_train.csv\")\n",
        "Y_test = pd.read_csv(\"data_y_test.csv\")\n",
        "X_train.sample(10)"
      ],
      "execution_count": 4,
      "outputs": [
        {
          "output_type": "execute_result",
          "data": {
            "text/html": [
              "<div>\n",
              "<style scoped>\n",
              "    .dataframe tbody tr th:only-of-type {\n",
              "        vertical-align: middle;\n",
              "    }\n",
              "\n",
              "    .dataframe tbody tr th {\n",
              "        vertical-align: top;\n",
              "    }\n",
              "\n",
              "    .dataframe thead th {\n",
              "        text-align: right;\n",
              "    }\n",
              "</style>\n",
              "<table border=\"1\" class=\"dataframe\">\n",
              "  <thead>\n",
              "    <tr style=\"text-align: right;\">\n",
              "      <th></th>\n",
              "      <th>0</th>\n",
              "      <th>1</th>\n",
              "      <th>2</th>\n",
              "      <th>3</th>\n",
              "      <th>4</th>\n",
              "      <th>5</th>\n",
              "      <th>6</th>\n",
              "      <th>7</th>\n",
              "      <th>8</th>\n",
              "      <th>9</th>\n",
              "      <th>10</th>\n",
              "      <th>11</th>\n",
              "      <th>12</th>\n",
              "      <th>13</th>\n",
              "      <th>14</th>\n",
              "      <th>15</th>\n",
              "      <th>16</th>\n",
              "      <th>17</th>\n",
              "      <th>18</th>\n",
              "      <th>19</th>\n",
              "      <th>20</th>\n",
              "      <th>21</th>\n",
              "      <th>22</th>\n",
              "      <th>23</th>\n",
              "      <th>24</th>\n",
              "      <th>25</th>\n",
              "      <th>26</th>\n",
              "      <th>27</th>\n",
              "      <th>28</th>\n",
              "      <th>29</th>\n",
              "      <th>30</th>\n",
              "      <th>31</th>\n",
              "      <th>32</th>\n",
              "      <th>33</th>\n",
              "      <th>34</th>\n",
              "      <th>35</th>\n",
              "      <th>36</th>\n",
              "      <th>37</th>\n",
              "      <th>38</th>\n",
              "      <th>39</th>\n",
              "      <th>40</th>\n",
              "      <th>41</th>\n",
              "      <th>42</th>\n",
              "      <th>43</th>\n",
              "      <th>44</th>\n",
              "      <th>45</th>\n",
              "      <th>46</th>\n",
              "      <th>47</th>\n",
              "      <th>48</th>\n",
              "      <th>49</th>\n",
              "    </tr>\n",
              "  </thead>\n",
              "  <tbody>\n",
              "    <tr>\n",
              "      <th>262</th>\n",
              "      <td>1238</td>\n",
              "      <td>74</td>\n",
              "      <td>25</td>\n",
              "      <td>110</td>\n",
              "      <td>154</td>\n",
              "      <td>97</td>\n",
              "      <td>1052</td>\n",
              "      <td>39</td>\n",
              "      <td>399</td>\n",
              "      <td>118</td>\n",
              "      <td>113</td>\n",
              "      <td>154</td>\n",
              "      <td>5</td>\n",
              "      <td>952</td>\n",
              "      <td>150</td>\n",
              "      <td>1763</td>\n",
              "      <td>374</td>\n",
              "      <td>154</td>\n",
              "      <td>301</td>\n",
              "      <td>118</td>\n",
              "      <td>154</td>\n",
              "      <td>52</td>\n",
              "      <td>952</td>\n",
              "      <td>346</td>\n",
              "      <td>260</td>\n",
              "      <td>60</td>\n",
              "      <td>142</td>\n",
              "      <td>3620</td>\n",
              "      <td>572</td>\n",
              "      <td>568</td>\n",
              "      <td>6</td>\n",
              "      <td>113</td>\n",
              "      <td>199</td>\n",
              "      <td>152</td>\n",
              "      <td>3621</td>\n",
              "      <td>28</td>\n",
              "      <td>277</td>\n",
              "      <td>1202</td>\n",
              "      <td>30</td>\n",
              "      <td>3622</td>\n",
              "      <td>20</td>\n",
              "      <td>154</td>\n",
              "      <td>346</td>\n",
              "      <td>767</td>\n",
              "      <td>61</td>\n",
              "      <td>263</td>\n",
              "      <td>62</td>\n",
              "      <td>179</td>\n",
              "      <td>52</td>\n",
              "      <td>1989</td>\n",
              "    </tr>\n",
              "    <tr>\n",
              "      <th>2940</th>\n",
              "      <td>136</td>\n",
              "      <td>12</td>\n",
              "      <td>21</td>\n",
              "      <td>81</td>\n",
              "      <td>7</td>\n",
              "      <td>9</td>\n",
              "      <td>46</td>\n",
              "      <td>3</td>\n",
              "      <td>123</td>\n",
              "      <td>163</td>\n",
              "      <td>0</td>\n",
              "      <td>0</td>\n",
              "      <td>0</td>\n",
              "      <td>0</td>\n",
              "      <td>0</td>\n",
              "      <td>0</td>\n",
              "      <td>0</td>\n",
              "      <td>0</td>\n",
              "      <td>0</td>\n",
              "      <td>0</td>\n",
              "      <td>0</td>\n",
              "      <td>0</td>\n",
              "      <td>0</td>\n",
              "      <td>0</td>\n",
              "      <td>0</td>\n",
              "      <td>0</td>\n",
              "      <td>0</td>\n",
              "      <td>0</td>\n",
              "      <td>0</td>\n",
              "      <td>0</td>\n",
              "      <td>0</td>\n",
              "      <td>0</td>\n",
              "      <td>0</td>\n",
              "      <td>0</td>\n",
              "      <td>0</td>\n",
              "      <td>0</td>\n",
              "      <td>0</td>\n",
              "      <td>0</td>\n",
              "      <td>0</td>\n",
              "      <td>0</td>\n",
              "      <td>0</td>\n",
              "      <td>0</td>\n",
              "      <td>0</td>\n",
              "      <td>0</td>\n",
              "      <td>0</td>\n",
              "      <td>0</td>\n",
              "      <td>0</td>\n",
              "      <td>0</td>\n",
              "      <td>0</td>\n",
              "      <td>0</td>\n",
              "    </tr>\n",
              "    <tr>\n",
              "      <th>6434</th>\n",
              "      <td>118</td>\n",
              "      <td>642</td>\n",
              "      <td>106</td>\n",
              "      <td>195</td>\n",
              "      <td>185</td>\n",
              "      <td>60</td>\n",
              "      <td>17</td>\n",
              "      <td>28</td>\n",
              "      <td>5</td>\n",
              "      <td>205</td>\n",
              "      <td>509</td>\n",
              "      <td>15</td>\n",
              "      <td>28</td>\n",
              "      <td>15</td>\n",
              "      <td>29</td>\n",
              "      <td>374</td>\n",
              "      <td>60</td>\n",
              "      <td>177</td>\n",
              "      <td>0</td>\n",
              "      <td>0</td>\n",
              "      <td>0</td>\n",
              "      <td>0</td>\n",
              "      <td>0</td>\n",
              "      <td>0</td>\n",
              "      <td>0</td>\n",
              "      <td>0</td>\n",
              "      <td>0</td>\n",
              "      <td>0</td>\n",
              "      <td>0</td>\n",
              "      <td>0</td>\n",
              "      <td>0</td>\n",
              "      <td>0</td>\n",
              "      <td>0</td>\n",
              "      <td>0</td>\n",
              "      <td>0</td>\n",
              "      <td>0</td>\n",
              "      <td>0</td>\n",
              "      <td>0</td>\n",
              "      <td>0</td>\n",
              "      <td>0</td>\n",
              "      <td>0</td>\n",
              "      <td>0</td>\n",
              "      <td>0</td>\n",
              "      <td>0</td>\n",
              "      <td>0</td>\n",
              "      <td>0</td>\n",
              "      <td>0</td>\n",
              "      <td>0</td>\n",
              "      <td>0</td>\n",
              "      <td>0</td>\n",
              "    </tr>\n",
              "    <tr>\n",
              "      <th>1526</th>\n",
              "      <td>115</td>\n",
              "      <td>19</td>\n",
              "      <td>125</td>\n",
              "      <td>5</td>\n",
              "      <td>74</td>\n",
              "      <td>22</td>\n",
              "      <td>29</td>\n",
              "      <td>119</td>\n",
              "      <td>74</td>\n",
              "      <td>0</td>\n",
              "      <td>0</td>\n",
              "      <td>0</td>\n",
              "      <td>0</td>\n",
              "      <td>0</td>\n",
              "      <td>0</td>\n",
              "      <td>0</td>\n",
              "      <td>0</td>\n",
              "      <td>0</td>\n",
              "      <td>0</td>\n",
              "      <td>0</td>\n",
              "      <td>0</td>\n",
              "      <td>0</td>\n",
              "      <td>0</td>\n",
              "      <td>0</td>\n",
              "      <td>0</td>\n",
              "      <td>0</td>\n",
              "      <td>0</td>\n",
              "      <td>0</td>\n",
              "      <td>0</td>\n",
              "      <td>0</td>\n",
              "      <td>0</td>\n",
              "      <td>0</td>\n",
              "      <td>0</td>\n",
              "      <td>0</td>\n",
              "      <td>0</td>\n",
              "      <td>0</td>\n",
              "      <td>0</td>\n",
              "      <td>0</td>\n",
              "      <td>0</td>\n",
              "      <td>0</td>\n",
              "      <td>0</td>\n",
              "      <td>0</td>\n",
              "      <td>0</td>\n",
              "      <td>0</td>\n",
              "      <td>0</td>\n",
              "      <td>0</td>\n",
              "      <td>0</td>\n",
              "      <td>0</td>\n",
              "      <td>0</td>\n",
              "      <td>0</td>\n",
              "    </tr>\n",
              "    <tr>\n",
              "      <th>3340</th>\n",
              "      <td>2</td>\n",
              "      <td>51</td>\n",
              "      <td>1</td>\n",
              "      <td>533</td>\n",
              "      <td>0</td>\n",
              "      <td>0</td>\n",
              "      <td>0</td>\n",
              "      <td>0</td>\n",
              "      <td>0</td>\n",
              "      <td>0</td>\n",
              "      <td>0</td>\n",
              "      <td>0</td>\n",
              "      <td>0</td>\n",
              "      <td>0</td>\n",
              "      <td>0</td>\n",
              "      <td>0</td>\n",
              "      <td>0</td>\n",
              "      <td>0</td>\n",
              "      <td>0</td>\n",
              "      <td>0</td>\n",
              "      <td>0</td>\n",
              "      <td>0</td>\n",
              "      <td>0</td>\n",
              "      <td>0</td>\n",
              "      <td>0</td>\n",
              "      <td>0</td>\n",
              "      <td>0</td>\n",
              "      <td>0</td>\n",
              "      <td>0</td>\n",
              "      <td>0</td>\n",
              "      <td>0</td>\n",
              "      <td>0</td>\n",
              "      <td>0</td>\n",
              "      <td>0</td>\n",
              "      <td>0</td>\n",
              "      <td>0</td>\n",
              "      <td>0</td>\n",
              "      <td>0</td>\n",
              "      <td>0</td>\n",
              "      <td>0</td>\n",
              "      <td>0</td>\n",
              "      <td>0</td>\n",
              "      <td>0</td>\n",
              "      <td>0</td>\n",
              "      <td>0</td>\n",
              "      <td>0</td>\n",
              "      <td>0</td>\n",
              "      <td>0</td>\n",
              "      <td>0</td>\n",
              "      <td>0</td>\n",
              "    </tr>\n",
              "    <tr>\n",
              "      <th>1246</th>\n",
              "      <td>115</td>\n",
              "      <td>27</td>\n",
              "      <td>6</td>\n",
              "      <td>78</td>\n",
              "      <td>115</td>\n",
              "      <td>121</td>\n",
              "      <td>74</td>\n",
              "      <td>71</td>\n",
              "      <td>0</td>\n",
              "      <td>0</td>\n",
              "      <td>0</td>\n",
              "      <td>0</td>\n",
              "      <td>0</td>\n",
              "      <td>0</td>\n",
              "      <td>0</td>\n",
              "      <td>0</td>\n",
              "      <td>0</td>\n",
              "      <td>0</td>\n",
              "      <td>0</td>\n",
              "      <td>0</td>\n",
              "      <td>0</td>\n",
              "      <td>0</td>\n",
              "      <td>0</td>\n",
              "      <td>0</td>\n",
              "      <td>0</td>\n",
              "      <td>0</td>\n",
              "      <td>0</td>\n",
              "      <td>0</td>\n",
              "      <td>0</td>\n",
              "      <td>0</td>\n",
              "      <td>0</td>\n",
              "      <td>0</td>\n",
              "      <td>0</td>\n",
              "      <td>0</td>\n",
              "      <td>0</td>\n",
              "      <td>0</td>\n",
              "      <td>0</td>\n",
              "      <td>0</td>\n",
              "      <td>0</td>\n",
              "      <td>0</td>\n",
              "      <td>0</td>\n",
              "      <td>0</td>\n",
              "      <td>0</td>\n",
              "      <td>0</td>\n",
              "      <td>0</td>\n",
              "      <td>0</td>\n",
              "      <td>0</td>\n",
              "      <td>0</td>\n",
              "      <td>0</td>\n",
              "      <td>0</td>\n",
              "    </tr>\n",
              "    <tr>\n",
              "      <th>5065</th>\n",
              "      <td>1</td>\n",
              "      <td>104</td>\n",
              "      <td>34</td>\n",
              "      <td>22</td>\n",
              "      <td>172</td>\n",
              "      <td>698</td>\n",
              "      <td>556</td>\n",
              "      <td>460</td>\n",
              "      <td>32</td>\n",
              "      <td>42</td>\n",
              "      <td>34</td>\n",
              "      <td>218</td>\n",
              "      <td>35</td>\n",
              "      <td>9</td>\n",
              "      <td>0</td>\n",
              "      <td>0</td>\n",
              "      <td>0</td>\n",
              "      <td>0</td>\n",
              "      <td>0</td>\n",
              "      <td>0</td>\n",
              "      <td>0</td>\n",
              "      <td>0</td>\n",
              "      <td>0</td>\n",
              "      <td>0</td>\n",
              "      <td>0</td>\n",
              "      <td>0</td>\n",
              "      <td>0</td>\n",
              "      <td>0</td>\n",
              "      <td>0</td>\n",
              "      <td>0</td>\n",
              "      <td>0</td>\n",
              "      <td>0</td>\n",
              "      <td>0</td>\n",
              "      <td>0</td>\n",
              "      <td>0</td>\n",
              "      <td>0</td>\n",
              "      <td>0</td>\n",
              "      <td>0</td>\n",
              "      <td>0</td>\n",
              "      <td>0</td>\n",
              "      <td>0</td>\n",
              "      <td>0</td>\n",
              "      <td>0</td>\n",
              "      <td>0</td>\n",
              "      <td>0</td>\n",
              "      <td>0</td>\n",
              "      <td>0</td>\n",
              "      <td>0</td>\n",
              "      <td>0</td>\n",
              "      <td>0</td>\n",
              "    </tr>\n",
              "    <tr>\n",
              "      <th>2980</th>\n",
              "      <td>30</td>\n",
              "      <td>66</td>\n",
              "      <td>5</td>\n",
              "      <td>89</td>\n",
              "      <td>13</td>\n",
              "      <td>37</td>\n",
              "      <td>148</td>\n",
              "      <td>25</td>\n",
              "      <td>60</td>\n",
              "      <td>418</td>\n",
              "      <td>100</td>\n",
              "      <td>6</td>\n",
              "      <td>606</td>\n",
              "      <td>138</td>\n",
              "      <td>30</td>\n",
              "      <td>435</td>\n",
              "      <td>265</td>\n",
              "      <td>187</td>\n",
              "      <td>28</td>\n",
              "      <td>293</td>\n",
              "      <td>27</td>\n",
              "      <td>6</td>\n",
              "      <td>42</td>\n",
              "      <td>95</td>\n",
              "      <td>16</td>\n",
              "      <td>938</td>\n",
              "      <td>24</td>\n",
              "      <td>3</td>\n",
              "      <td>37</td>\n",
              "      <td>53</td>\n",
              "      <td>67</td>\n",
              "      <td>186</td>\n",
              "      <td>6</td>\n",
              "      <td>14</td>\n",
              "      <td>111</td>\n",
              "      <td>29</td>\n",
              "      <td>16</td>\n",
              "      <td>160</td>\n",
              "      <td>23</td>\n",
              "      <td>436</td>\n",
              "      <td>1823</td>\n",
              "      <td>11</td>\n",
              "      <td>1724</td>\n",
              "      <td>414</td>\n",
              "      <td>70</td>\n",
              "      <td>225</td>\n",
              "      <td>76</td>\n",
              "      <td>0</td>\n",
              "      <td>0</td>\n",
              "      <td>0</td>\n",
              "    </tr>\n",
              "    <tr>\n",
              "      <th>623</th>\n",
              "      <td>2</td>\n",
              "      <td>12</td>\n",
              "      <td>21</td>\n",
              "      <td>4</td>\n",
              "      <td>10</td>\n",
              "      <td>9</td>\n",
              "      <td>8</td>\n",
              "      <td>14</td>\n",
              "      <td>0</td>\n",
              "      <td>0</td>\n",
              "      <td>0</td>\n",
              "      <td>0</td>\n",
              "      <td>0</td>\n",
              "      <td>0</td>\n",
              "      <td>0</td>\n",
              "      <td>0</td>\n",
              "      <td>0</td>\n",
              "      <td>0</td>\n",
              "      <td>0</td>\n",
              "      <td>0</td>\n",
              "      <td>0</td>\n",
              "      <td>0</td>\n",
              "      <td>0</td>\n",
              "      <td>0</td>\n",
              "      <td>0</td>\n",
              "      <td>0</td>\n",
              "      <td>0</td>\n",
              "      <td>0</td>\n",
              "      <td>0</td>\n",
              "      <td>0</td>\n",
              "      <td>0</td>\n",
              "      <td>0</td>\n",
              "      <td>0</td>\n",
              "      <td>0</td>\n",
              "      <td>0</td>\n",
              "      <td>0</td>\n",
              "      <td>0</td>\n",
              "      <td>0</td>\n",
              "      <td>0</td>\n",
              "      <td>0</td>\n",
              "      <td>0</td>\n",
              "      <td>0</td>\n",
              "      <td>0</td>\n",
              "      <td>0</td>\n",
              "      <td>0</td>\n",
              "      <td>0</td>\n",
              "      <td>0</td>\n",
              "      <td>0</td>\n",
              "      <td>0</td>\n",
              "      <td>0</td>\n",
              "    </tr>\n",
              "    <tr>\n",
              "      <th>3885</th>\n",
              "      <td>2</td>\n",
              "      <td>36</td>\n",
              "      <td>125</td>\n",
              "      <td>36</td>\n",
              "      <td>0</td>\n",
              "      <td>0</td>\n",
              "      <td>0</td>\n",
              "      <td>0</td>\n",
              "      <td>0</td>\n",
              "      <td>0</td>\n",
              "      <td>0</td>\n",
              "      <td>0</td>\n",
              "      <td>0</td>\n",
              "      <td>0</td>\n",
              "      <td>0</td>\n",
              "      <td>0</td>\n",
              "      <td>0</td>\n",
              "      <td>0</td>\n",
              "      <td>0</td>\n",
              "      <td>0</td>\n",
              "      <td>0</td>\n",
              "      <td>0</td>\n",
              "      <td>0</td>\n",
              "      <td>0</td>\n",
              "      <td>0</td>\n",
              "      <td>0</td>\n",
              "      <td>0</td>\n",
              "      <td>0</td>\n",
              "      <td>0</td>\n",
              "      <td>0</td>\n",
              "      <td>0</td>\n",
              "      <td>0</td>\n",
              "      <td>0</td>\n",
              "      <td>0</td>\n",
              "      <td>0</td>\n",
              "      <td>0</td>\n",
              "      <td>0</td>\n",
              "      <td>0</td>\n",
              "      <td>0</td>\n",
              "      <td>0</td>\n",
              "      <td>0</td>\n",
              "      <td>0</td>\n",
              "      <td>0</td>\n",
              "      <td>0</td>\n",
              "      <td>0</td>\n",
              "      <td>0</td>\n",
              "      <td>0</td>\n",
              "      <td>0</td>\n",
              "      <td>0</td>\n",
              "      <td>0</td>\n",
              "    </tr>\n",
              "  </tbody>\n",
              "</table>\n",
              "</div>"
            ],
            "text/plain": [
              "         0    1    2    3    4    5     6  ...   43  44   45  46   47  48    49\n",
              "262   1238   74   25  110  154   97  1052  ...  767  61  263  62  179  52  1989\n",
              "2940   136   12   21   81    7    9    46  ...    0   0    0   0    0   0     0\n",
              "6434   118  642  106  195  185   60    17  ...    0   0    0   0    0   0     0\n",
              "1526   115   19  125    5   74   22    29  ...    0   0    0   0    0   0     0\n",
              "3340     2   51    1  533    0    0     0  ...    0   0    0   0    0   0     0\n",
              "1246   115   27    6   78  115  121    74  ...    0   0    0   0    0   0     0\n",
              "5065     1  104   34   22  172  698   556  ...    0   0    0   0    0   0     0\n",
              "2980    30   66    5   89   13   37   148  ...  414  70  225  76    0   0     0\n",
              "623      2   12   21    4   10    9     8  ...    0   0    0   0    0   0     0\n",
              "3885     2   36  125   36    0    0     0  ...    0   0    0   0    0   0     0\n",
              "\n",
              "[10 rows x 50 columns]"
            ]
          },
          "metadata": {},
          "execution_count": 4
        }
      ]
    },
    {
      "cell_type": "code",
      "source": [
        "print('Shape of data tensor of train: ', X_train.shape)\n",
        "print('Shape of data tensor of test: ', X_test.shape)\n",
        "print('Shape of label tensor of train: ', Y_train.shape)\n",
        "print('Shape of label tensor of test: ', Y_test.shape)"
      ],
      "metadata": {
        "colab": {
          "base_uri": "https://localhost:8080/"
        },
        "id": "_B6DCu4PGAQE",
        "outputId": "cd43f8d5-1cf3-4810-ebb5-38d7746f4e9f"
      },
      "execution_count": 5,
      "outputs": [
        {
          "output_type": "stream",
          "name": "stdout",
          "text": [
            "Shape of data tensor of train:  (6897, 50)\n",
            "Shape of data tensor of test:  (767, 50)\n",
            "Shape of label tensor of train:  (6897, 2)\n",
            "Shape of label tensor of test:  (767, 2)\n"
          ]
        }
      ]
    },
    {
      "cell_type": "code",
      "metadata": {
        "colab": {
          "base_uri": "https://localhost:8080/"
        },
        "id": "V2hYfBJVLQ-G",
        "outputId": "7c642821-b565-48a7-d14b-29f0879fbf15"
      },
      "source": [
        "VOCABULARY_SIZE = X_train.to_numpy().max() + 1\n",
        "\n",
        "print(\"Vocalbulary size: \", VOCABULARY_SIZE)"
      ],
      "execution_count": 6,
      "outputs": [
        {
          "output_type": "stream",
          "name": "stdout",
          "text": [
            "Vocalbulary size:  4621\n"
          ]
        }
      ]
    },
    {
      "cell_type": "markdown",
      "metadata": {
        "id": "CQDIBmuLRRxv"
      },
      "source": [
        "#Build Model"
      ]
    },
    {
      "cell_type": "code",
      "metadata": {
        "colab": {
          "base_uri": "https://localhost:8080/"
        },
        "id": "65cWTdo9k_K-",
        "outputId": "a826b9ee-920f-4f2b-8174-e9f2b7ce448b"
      },
      "source": [
        "from keras.models import Sequential\n",
        "from keras.layers import Embedding, Bidirectional, Dropout, SpatialDropout1D, LSTM, Dense, Conv1D, MaxPooling1D, GRU, Flatten\n",
        "from keras.regularizers import l2\n",
        "\n",
        "EMBEDDING_DIMENSION = 64\n",
        "\n",
        "model = Sequential()\n",
        "model.add(Embedding(VOCABULARY_SIZE, EMBEDDING_DIMENSION, input_length=X_train.shape[1]))\n",
        "model.add(SpatialDropout1D(0.2))\n",
        "model.add(Bidirectional(LSTM(EMBEDDING_DIMENSION, dropout=0.2)))\n",
        "model.add(Dense(Y_train.shape[1], activation='softmax'))\n",
        "\n",
        "model.compile(loss='categorical_crossentropy', optimizer='adam', metrics=['accuracy'])\n",
        "\n",
        "model.summary()"
      ],
      "execution_count": 7,
      "outputs": [
        {
          "output_type": "stream",
          "name": "stdout",
          "text": [
            "Model: \"sequential_1\"\n",
            "_________________________________________________________________\n",
            " Layer (type)                Output Shape              Param #   \n",
            "=================================================================\n",
            " embedding (Embedding)       (None, 50, 64)            295744    \n",
            "                                                                 \n",
            " spatial_dropout1d (SpatialD  (None, 50, 64)           0         \n",
            " ropout1D)                                                       \n",
            "                                                                 \n",
            " bidirectional (Bidirectiona  (None, 128)              66048     \n",
            " l)                                                              \n",
            "                                                                 \n",
            " dense (Dense)               (None, 2)                 258       \n",
            "                                                                 \n",
            "=================================================================\n",
            "Total params: 362,050\n",
            "Trainable params: 362,050\n",
            "Non-trainable params: 0\n",
            "_________________________________________________________________\n"
          ]
        }
      ]
    },
    {
      "cell_type": "code",
      "source": [
        "from keras.utils.vis_utils import plot_model\n",
        "\n",
        "plot_model(model, to_file='model_plot.png', show_shapes=True, show_layer_names=False)"
      ],
      "metadata": {
        "colab": {
          "base_uri": "https://localhost:8080/",
          "height": 533
        },
        "id": "6rlIxaVLfr3S",
        "outputId": "1ba166e1-0f7c-4eb8-ddd3-f566ed591909"
      },
      "execution_count": 8,
      "outputs": [
        {
          "output_type": "execute_result",
          "data": {
            "image/png": "[encoded data removed]",
            "text/plain": [
              "<IPython.core.display.Image object>"
            ]
          },
          "metadata": {},
          "execution_count": 8
        }
      ]
    },
    {
      "cell_type": "markdown",
      "metadata": {
        "id": "QqSx9F1WRVS2"
      },
      "source": [
        "#Perform Model\n",
        "Iterasi: 30\\\n",
        "Ukuran tiap iterasi: 256\\\n",
        "Iterasi akan berhenti ketika akurasi validasi tidak meningkat setelah 5 kali"
      ]
    },
    {
      "cell_type": "code",
      "metadata": {
        "colab": {
          "base_uri": "https://localhost:8080/"
        },
        "id": "XfRzFI30pcCY",
        "outputId": "94956768-7e6d-48c1-cc27-3dff90dc719d"
      },
      "source": [
        "from keras.callbacks import ModelCheckpoint, EarlyStopping\n",
        "\n",
        "filepath=\"./best_val_accuracy.hdf5\"\n",
        "stopping = EarlyStopping(monitor='val_accuracy', patience=5)\n",
        "checkpoint = ModelCheckpoint(filepath, monitor='val_accuracy', verbose=1, save_best_only=True, mode='max')\n",
        "callbacks_list = [stopping]\n",
        "\n",
        "epochs = 30\n",
        "batch_size = 256\n",
        "\n",
        "history = model.fit(\n",
        "  X_train,\n",
        "  Y_train,\n",
        "  epochs=epochs,\n",
        "  batch_size=batch_size,\n",
        "  validation_data=(X_test, Y_test),\n",
        "  callbacks=[callbacks_list],\n",
        "  verbose=1\n",
        ")"
      ],
      "execution_count": null,
      "outputs": [
        {
          "output_type": "stream",
          "name": "stdout",
          "text": [
            "Epoch 1/30\n",
            "27/27 [==============================] - 10s 81ms/step - loss: 0.6426 - accuracy: 0.6426 - val_loss: 0.5331 - val_accuracy: 0.7053\n",
            "Epoch 2/30\n",
            "27/27 [==============================] - 1s 35ms/step - loss: 0.4200 - accuracy: 0.8128 - val_loss: 0.2895 - val_accuracy: 0.9048\n",
            "Epoch 3/30\n",
            "27/27 [==============================] - 1s 35ms/step - loss: 0.2996 - accuracy: 0.8881 - val_loss: 0.2608 - val_accuracy: 0.9074\n",
            "Epoch 4/30\n",
            "27/27 [==============================] - 1s 34ms/step - loss: 0.2585 - accuracy: 0.9079 - val_loss: 0.2337 - val_accuracy: 0.9192\n",
            "Epoch 5/30\n",
            "27/27 [==============================] - 1s 35ms/step - loss: 0.2289 - accuracy: 0.9192 - val_loss: 0.2309 - val_accuracy: 0.9179\n",
            "Epoch 6/30\n",
            "27/27 [==============================] - 1s 34ms/step - loss: 0.2109 - accuracy: 0.9279 - val_loss: 0.2296 - val_accuracy: 0.9179\n",
            "Epoch 7/30\n",
            "27/27 [==============================] - 1s 33ms/step - loss: 0.1932 - accuracy: 0.9337 - val_loss: 0.2352 - val_accuracy: 0.9140\n",
            "Epoch 8/30\n",
            "27/27 [==============================] - 1s 33ms/step - loss: 0.1769 - accuracy: 0.9404 - val_loss: 0.2433 - val_accuracy: 0.9126\n",
            "Epoch 9/30\n",
            "27/27 [==============================] - 1s 33ms/step - loss: 0.1656 - accuracy: 0.9419 - val_loss: 0.2513 - val_accuracy: 0.9126\n"
          ]
        }
      ]
    },
    {
      "cell_type": "markdown",
      "metadata": {
        "id": "CInTczrmRX5H"
      },
      "source": [
        "#Visualize accuracy of model"
      ]
    },
    {
      "cell_type": "code",
      "metadata": {
        "id": "sY0J7XcuuLFz",
        "colab": {
          "base_uri": "https://localhost:8080/",
          "height": 513
        },
        "outputId": "4dd1d9ac-3623-401b-f712-a3a309bb6b1b"
      },
      "source": [
        "import matplotlib.pyplot as plt\n",
        "\n",
        "plt.figure(figsize=(12,8))\n",
        "plt.plot(history.history['accuracy'])\n",
        "plt.plot(history.history['val_accuracy'])\n",
        "plt.title('Model accuracy')\n",
        "plt.ylabel('Accuracy')\n",
        "plt.xlabel('Epoch')\n",
        "plt.legend(['Train', 'Test'], loc='upper left')\n",
        "plt.show()"
      ],
      "execution_count": null,
      "outputs": [
        {
          "output_type": "display_data",
          "data": {
            "image/png": "[encoded data removed]",
            "text/plain": [
              "<Figure size 864x576 with 1 Axes>"
            ]
          },
          "metadata": {
            "needs_background": "light"
          }
        }
      ]
    },
    {
      "cell_type": "markdown",
      "metadata": {
        "id": "sXpv7Nn0S4Kv"
      },
      "source": [
        "Dari visualisasi terlihat bahwa model sudah \"fit\" karena hasil test dan train saling mendekati dengan akurasi >90%"
      ]
    },
    {
      "cell_type": "markdown",
      "metadata": {
        "id": "RBmUVC92Rd-e"
      },
      "source": [
        "#Confusion Matrix of Model"
      ]
    },
    {
      "cell_type": "code",
      "metadata": {
        "colab": {
          "base_uri": "https://localhost:8080/",
          "height": 429
        },
        "id": "mAoMAgiBmZbq",
        "outputId": "77f7a505-2351-4a88-eefb-af306aceb72c"
      },
      "source": [
        "from sklearn.metrics import classification_report, confusion_matrix\n",
        "import numpy as np\n",
        "\n",
        "Y_pred = model.predict(X_test)\n",
        "\n",
        "Y_test_non_category = [ np.argmax(t) for t in Y_test.values]\n",
        "Y_predict_non_category = [ np.argmax(t) for t in Y_pred ]\n",
        "\n",
        "conf_mat = confusion_matrix(Y_test_non_category, Y_predict_non_category)\n",
        "sum = conf_mat.sum(axis=1)\n",
        "conf_mat = [[round(v / sum[i], 2) for v in a] for i, a in enumerate(conf_mat)]\n",
        "\n",
        "import seaborn as sn\n",
        "import pandas as pd\n",
        "import matplotlib.pyplot as plt\n",
        "from IPython.display import set_matplotlib_formats\n",
        "set_matplotlib_formats('svg')\n",
        "\n",
        "plt.rcParams['figure.dpi'] = 100\n",
        "plt.rcParams['savefig.dpi'] = 100\n",
        "sn.set(rc={\"figure.dpi\":100, 'savefig.dpi':100})\n",
        "sn.set_context('notebook')\n",
        "sn.set_style(\"ticks\")\n",
        "\n",
        "indexs = sorted([0, 1])\n",
        "\n",
        "columns = [i for i in indexs[0:len(np.unique(Y_test_non_category))]]\n",
        "\n",
        "df_cm = pd.DataFrame(conf_mat, index=columns, columns=columns)\n",
        "\n",
        "plt.figure(figsize=(5, 5))\n",
        "ax = sn.heatmap(df_cm, cmap='Oranges', annot=True, annot_kws={\"fontsize\":6})\n",
        "\n",
        "plt.show()"
      ],
      "execution_count": null,
      "outputs": [
        {
          "output_type": "display_data",
          "data": {
            "text/plain": [
              "<Figure size 500x500 with 2 Axes>"
            ],
            "image/svg+xml": "<?xml version=\"1.0\" encoding=\"utf-8\" standalone=\"no\"?>\n<!DOCTYPE svg PUBLIC \"-//W3C//DTD SVG 1.1//EN\"\n  \"http://www.w3.org/Graphics/SVG/1.1/DTD/svg11.dtd\">\n<!-- Created with matplotlib (https://matplotlib.org/) -->\n<svg height=\"306.345937pt\" version=\"1.1\" viewBox=\"0 0 312.279375 306.345937\" width=\"312.279375pt\" xmlns=\"http://www.w3.org/2000/svg\" xmlns:xlink=\"http://www.w3.org/1999/xlink\">\n <defs>\n  <style type=\"text/css\">\n*{stroke-linecap:butt;stroke-linejoin:round;}\n  </style>\n </defs>\n <g id=\"figure_1\">\n  <g id=\"patch_1\">\n   <path d=\"M 0 306.345937 \nL 312.279375 306.345937 \nL 312.279375 0 \nL 0 0 \nz\n\" style=\"fill:#ffffff;\"/>\n  </g>\n  <g id=\"axes_1\">\n   <g id=\"patch_2\">\n    <path d=\"M 27.345938 279 \nL 250.545938 279 \nL 250.545938 7.2 \nL 27.345938 7.2 \nz\n\" style=\"fill:#ffffff;\"/>\n   </g>\n   <g id=\"matplotlib.axis_1\">\n    <g id=\"xtick_1\">\n     <g id=\"line2d_1\">\n      <defs>\n       <path d=\"M 0 0 \nL 0 6 \n\" id=\"m3454ad47ab\" style=\"stroke:#262626;stroke-width:1.25;\"/>\n      </defs>\n      <g>\n       <use style=\"fill:#262626;stroke:#262626;stroke-width:1.25;\" x=\"83.145938\" xlink:href=\"#m3454ad47ab\" y=\"279\"/>\n      </g>\n     </g>\n     <g id=\"text_1\">\n      <!-- 0 -->\n      <defs>\n       <path d=\"M 31.78125 66.40625 \nQ 24.171875 66.40625 20.328125 58.90625 \nQ 16.5 51.421875 16.5 36.375 \nQ 16.5 21.390625 20.328125 13.890625 \nQ 24.171875 6.390625 31.78125 6.390625 \nQ 39.453125 6.390625 43.28125 13.890625 \nQ 47.125 21.390625 47.125 36.375 \nQ 47.125 51.421875 43.28125 58.90625 \nQ 39.453125 66.40625 31.78125 66.40625 \nz\nM 31.78125 74.21875 \nQ 44.046875 74.21875 50.515625 64.515625 \nQ 56.984375 54.828125 56.984375 36.375 \nQ 56.984375 17.96875 50.515625 8.265625 \nQ 44.046875 -1.421875 31.78125 -1.421875 \nQ 19.53125 -1.421875 13.0625 8.265625 \nQ 6.59375 17.96875 6.59375 36.375 \nQ 6.59375 54.828125 13.0625 64.515625 \nQ 19.53125 74.21875 31.78125 74.21875 \nz\n\" id=\"DejaVuSans-48\"/>\n      </defs>\n      <g style=\"fill:#262626;\" transform=\"translate(79.646563 296.858281)scale(0.11 -0.11)\">\n       <use xlink:href=\"#DejaVuSans-48\"/>\n      </g>\n     </g>\n    </g>\n    <g id=\"xtick_2\">\n     <g id=\"line2d_2\">\n      <g>\n       <use style=\"fill:#262626;stroke:#262626;stroke-width:1.25;\" x=\"194.745938\" xlink:href=\"#m3454ad47ab\" y=\"279\"/>\n      </g>\n     </g>\n     <g id=\"text_2\">\n      <!-- 1 -->\n      <defs>\n       <path d=\"M 12.40625 8.296875 \nL 28.515625 8.296875 \nL 28.515625 63.921875 \nL 10.984375 60.40625 \nL 10.984375 69.390625 \nL 28.421875 72.90625 \nL 38.28125 72.90625 \nL 38.28125 8.296875 \nL 54.390625 8.296875 \nL 54.390625 0 \nL 12.40625 0 \nz\n\" id=\"DejaVuSans-49\"/>\n      </defs>\n      <g style=\"fill:#262626;\" transform=\"translate(191.246563 296.858281)scale(0.11 -0.11)\">\n       <use xlink:href=\"#DejaVuSans-49\"/>\n      </g>\n     </g>\n    </g>\n   </g>\n   <g id=\"matplotlib.axis_2\">\n    <g id=\"ytick_1\">\n     <g id=\"line2d_3\">\n      <defs>\n       <path d=\"M 0 0 \nL -6 0 \n\" id=\"m096c1d3891\" style=\"stroke:#262626;stroke-width:1.25;\"/>\n      </defs>\n      <g>\n       <use style=\"fill:#262626;stroke:#262626;stroke-width:1.25;\" x=\"27.345938\" xlink:href=\"#m096c1d3891\" y=\"75.15\"/>\n      </g>\n     </g>\n     <g id=\"text_3\">\n      <!-- 0 -->\n      <g style=\"fill:#262626;\" transform=\"translate(15.558281 78.649375)rotate(-90)scale(0.11 -0.11)\">\n       <use xlink:href=\"#DejaVuSans-48\"/>\n      </g>\n     </g>\n    </g>\n    <g id=\"ytick_2\">\n     <g id=\"line2d_4\">\n      <g>\n       <use style=\"fill:#262626;stroke:#262626;stroke-width:1.25;\" x=\"27.345938\" xlink:href=\"#m096c1d3891\" y=\"211.05\"/>\n      </g>\n     </g>\n     <g id=\"text_4\">\n      <!-- 1 -->\n      <g style=\"fill:#262626;\" transform=\"translate(15.558281 214.549375)rotate(-90)scale(0.11 -0.11)\">\n       <use xlink:href=\"#DejaVuSans-49\"/>\n      </g>\n     </g>\n    </g>\n   </g>\n   <g id=\"QuadMesh_1\">\n    <path clip-path=\"url(#p853309fe47)\" d=\"M 27.345938 7.2 \nL 138.945938 7.2 \nL 138.945938 143.1 \nL 27.345938 143.1 \nL 27.345938 7.2 \n\" style=\"fill:#7f2704;\"/>\n    <path clip-path=\"url(#p853309fe47)\" d=\"M 138.945938 7.2 \nL 250.545938 7.2 \nL 250.545938 143.1 \nL 138.945938 143.1 \nL 138.945938 7.2 \n\" style=\"fill:#fff5eb;\"/>\n    <path clip-path=\"url(#p853309fe47)\" d=\"M 27.345938 143.1 \nL 138.945938 143.1 \nL 138.945938 279 \nL 27.345938 279 \nL 27.345938 143.1 \n\" style=\"fill:#fff1e4;\"/>\n    <path clip-path=\"url(#p853309fe47)\" d=\"M 138.945938 143.1 \nL 250.545938 143.1 \nL 250.545938 279 \nL 138.945938 279 \nL 138.945938 143.1 \n\" style=\"fill:#892b04;\"/>\n   </g>\n   <g id=\"text_5\">\n    <!-- 0.93 -->\n    <defs>\n     <path d=\"M 10.6875 12.40625 \nL 21 12.40625 \nL 21 0 \nL 10.6875 0 \nz\n\" id=\"DejaVuSans-46\"/>\n     <path d=\"M 10.984375 1.515625 \nL 10.984375 10.5 \nQ 14.703125 8.734375 18.5 7.8125 \nQ 22.3125 6.890625 25.984375 6.890625 \nQ 35.75 6.890625 40.890625 13.453125 \nQ 46.046875 20.015625 46.78125 33.40625 \nQ 43.953125 29.203125 39.59375 26.953125 \nQ 35.25 24.703125 29.984375 24.703125 \nQ 19.046875 24.703125 12.671875 31.3125 \nQ 6.296875 37.9375 6.296875 49.421875 \nQ 6.296875 60.640625 12.9375 67.421875 \nQ 19.578125 74.21875 30.609375 74.21875 \nQ 43.265625 74.21875 49.921875 64.515625 \nQ 56.59375 54.828125 56.59375 36.375 \nQ 56.59375 19.140625 48.40625 8.859375 \nQ 40.234375 -1.421875 26.421875 -1.421875 \nQ 22.703125 -1.421875 18.890625 -0.6875 \nQ 15.09375 0.046875 10.984375 1.515625 \nz\nM 30.609375 32.421875 \nQ 37.25 32.421875 41.125 36.953125 \nQ 45.015625 41.5 45.015625 49.421875 \nQ 45.015625 57.28125 41.125 61.84375 \nQ 37.25 66.40625 30.609375 66.40625 \nQ 23.96875 66.40625 20.09375 61.84375 \nQ 16.21875 57.28125 16.21875 49.421875 \nQ 16.21875 41.5 20.09375 36.953125 \nQ 23.96875 32.421875 30.609375 32.421875 \nz\n\" id=\"DejaVuSans-57\"/>\n     <path d=\"M 40.578125 39.3125 \nQ 47.65625 37.796875 51.625 33 \nQ 55.609375 28.21875 55.609375 21.1875 \nQ 55.609375 10.40625 48.1875 4.484375 \nQ 40.765625 -1.421875 27.09375 -1.421875 \nQ 22.515625 -1.421875 17.65625 -0.515625 \nQ 12.796875 0.390625 7.625 2.203125 \nL 7.625 11.71875 \nQ 11.71875 9.328125 16.59375 8.109375 \nQ 21.484375 6.890625 26.8125 6.890625 \nQ 36.078125 6.890625 40.9375 10.546875 \nQ 45.796875 14.203125 45.796875 21.1875 \nQ 45.796875 27.640625 41.28125 31.265625 \nQ 36.765625 34.90625 28.71875 34.90625 \nL 20.21875 34.90625 \nL 20.21875 43.015625 \nL 29.109375 43.015625 \nQ 36.375 43.015625 40.234375 45.921875 \nQ 44.09375 48.828125 44.09375 54.296875 \nQ 44.09375 59.90625 40.109375 62.90625 \nQ 36.140625 65.921875 28.71875 65.921875 \nQ 24.65625 65.921875 20.015625 65.03125 \nQ 15.375 64.15625 9.8125 62.3125 \nL 9.8125 71.09375 \nQ 15.4375 72.65625 20.34375 73.4375 \nQ 25.25 74.21875 29.59375 74.21875 \nQ 40.828125 74.21875 47.359375 69.109375 \nQ 53.90625 64.015625 53.90625 55.328125 \nQ 53.90625 49.265625 50.4375 45.09375 \nQ 46.96875 40.921875 40.578125 39.3125 \nz\n\" id=\"DejaVuSans-51\"/>\n    </defs>\n    <g style=\"fill:#ffffff;\" transform=\"translate(76.46625 76.805625)scale(0.06 -0.06)\">\n     <use xlink:href=\"#DejaVuSans-48\"/>\n     <use x=\"63.623047\" xlink:href=\"#DejaVuSans-46\"/>\n     <use x=\"95.410156\" xlink:href=\"#DejaVuSans-57\"/>\n     <use x=\"159.033203\" xlink:href=\"#DejaVuSans-51\"/>\n    </g>\n   </g>\n   <g id=\"text_6\">\n    <!-- 0.07 -->\n    <defs>\n     <path d=\"M 8.203125 72.90625 \nL 55.078125 72.90625 \nL 55.078125 68.703125 \nL 28.609375 0 \nL 18.3125 0 \nL 43.21875 64.59375 \nL 8.203125 64.59375 \nz\n\" id=\"DejaVuSans-55\"/>\n    </defs>\n    <g style=\"fill:#262626;\" transform=\"translate(188.06625 76.805625)scale(0.06 -0.06)\">\n     <use xlink:href=\"#DejaVuSans-48\"/>\n     <use x=\"63.623047\" xlink:href=\"#DejaVuSans-46\"/>\n     <use x=\"95.410156\" xlink:href=\"#DejaVuSans-48\"/>\n     <use x=\"159.033203\" xlink:href=\"#DejaVuSans-55\"/>\n    </g>\n   </g>\n   <g id=\"text_7\">\n    <!-- 0.1 -->\n    <g style=\"fill:#262626;\" transform=\"translate(78.375 212.705625)scale(0.06 -0.06)\">\n     <use xlink:href=\"#DejaVuSans-48\"/>\n     <use x=\"63.623047\" xlink:href=\"#DejaVuSans-46\"/>\n     <use x=\"95.410156\" xlink:href=\"#DejaVuSans-49\"/>\n    </g>\n   </g>\n   <g id=\"text_8\">\n    <!-- 0.9 -->\n    <g style=\"fill:#ffffff;\" transform=\"translate(189.975 212.705625)scale(0.06 -0.06)\">\n     <use xlink:href=\"#DejaVuSans-48\"/>\n     <use x=\"63.623047\" xlink:href=\"#DejaVuSans-46\"/>\n     <use x=\"95.410156\" xlink:href=\"#DejaVuSans-57\"/>\n    </g>\n   </g>\n  </g>\n  <g id=\"axes_2\">\n   <g id=\"patch_3\">\n    <path clip-path=\"url(#pd7b74cc50c)\" d=\"M 264.495938 279 \nL 264.495938 277.938281 \nL 264.495938 8.261719 \nL 264.495938 7.2 \nL 278.085938 7.2 \nL 278.085938 8.261719 \nL 278.085938 277.938281 \nL 278.085938 279 \nz\n\" style=\"fill:#ffffff;stroke:#ffffff;stroke-linejoin:miter;stroke-width:0.01;\"/>\n   </g>\n   <g id=\"matplotlib.axis_3\"/>\n   <g id=\"matplotlib.axis_4\">\n    <g id=\"ytick_3\">\n     <g id=\"line2d_5\">\n      <defs>\n       <path d=\"M 0 0 \nL 6 0 \n\" id=\"m28954b5df4\" style=\"stroke:#262626;stroke-width:1.25;\"/>\n      </defs>\n      <g>\n       <use style=\"fill:#262626;stroke:#262626;stroke-width:1.25;\" x=\"278.085938\" xlink:href=\"#m28954b5df4\" y=\"269.518605\"/>\n      </g>\n     </g>\n     <g id=\"text_9\">\n      <!-- 0.1 -->\n      <g style=\"fill:#262626;\" transform=\"translate(287.585938 273.697745)scale(0.11 -0.11)\">\n       <use xlink:href=\"#DejaVuSans-48\"/>\n       <use x=\"63.623047\" xlink:href=\"#DejaVuSans-46\"/>\n       <use x=\"95.410156\" xlink:href=\"#DejaVuSans-49\"/>\n      </g>\n     </g>\n    </g>\n    <g id=\"ytick_4\">\n     <g id=\"line2d_6\">\n      <g>\n       <use style=\"fill:#262626;stroke:#262626;stroke-width:1.25;\" x=\"278.085938\" xlink:href=\"#m28954b5df4\" y=\"237.913953\"/>\n      </g>\n     </g>\n     <g id=\"text_10\">\n      <!-- 0.2 -->\n      <defs>\n       <path d=\"M 19.1875 8.296875 \nL 53.609375 8.296875 \nL 53.609375 0 \nL 7.328125 0 \nL 7.328125 8.296875 \nQ 12.9375 14.109375 22.625 23.890625 \nQ 32.328125 33.6875 34.8125 36.53125 \nQ 39.546875 41.84375 41.421875 45.53125 \nQ 43.3125 49.21875 43.3125 52.78125 \nQ 43.3125 58.59375 39.234375 62.25 \nQ 35.15625 65.921875 28.609375 65.921875 \nQ 23.96875 65.921875 18.8125 64.3125 \nQ 13.671875 62.703125 7.8125 59.421875 \nL 7.8125 69.390625 \nQ 13.765625 71.78125 18.9375 73 \nQ 24.125 74.21875 28.421875 74.21875 \nQ 39.75 74.21875 46.484375 68.546875 \nQ 53.21875 62.890625 53.21875 53.421875 \nQ 53.21875 48.921875 51.53125 44.890625 \nQ 49.859375 40.875 45.40625 35.40625 \nQ 44.1875 33.984375 37.640625 27.21875 \nQ 31.109375 20.453125 19.1875 8.296875 \nz\n\" id=\"DejaVuSans-50\"/>\n      </defs>\n      <g style=\"fill:#262626;\" transform=\"translate(287.585938 242.093094)scale(0.11 -0.11)\">\n       <use xlink:href=\"#DejaVuSans-48\"/>\n       <use x=\"63.623047\" xlink:href=\"#DejaVuSans-46\"/>\n       <use x=\"95.410156\" xlink:href=\"#DejaVuSans-50\"/>\n      </g>\n     </g>\n    </g>\n    <g id=\"ytick_5\">\n     <g id=\"line2d_7\">\n      <g>\n       <use style=\"fill:#262626;stroke:#262626;stroke-width:1.25;\" x=\"278.085938\" xlink:href=\"#m28954b5df4\" y=\"206.309302\"/>\n      </g>\n     </g>\n     <g id=\"text_11\">\n      <!-- 0.3 -->\n      <g style=\"fill:#262626;\" transform=\"translate(287.585938 210.488443)scale(0.11 -0.11)\">\n       <use xlink:href=\"#DejaVuSans-48\"/>\n       <use x=\"63.623047\" xlink:href=\"#DejaVuSans-46\"/>\n       <use x=\"95.410156\" xlink:href=\"#DejaVuSans-51\"/>\n      </g>\n     </g>\n    </g>\n    <g id=\"ytick_6\">\n     <g id=\"line2d_8\">\n      <g>\n       <use style=\"fill:#262626;stroke:#262626;stroke-width:1.25;\" x=\"278.085938\" xlink:href=\"#m28954b5df4\" y=\"174.704651\"/>\n      </g>\n     </g>\n     <g id=\"text_12\">\n      <!-- 0.4 -->\n      <defs>\n       <path d=\"M 37.796875 64.3125 \nL 12.890625 25.390625 \nL 37.796875 25.390625 \nz\nM 35.203125 72.90625 \nL 47.609375 72.90625 \nL 47.609375 25.390625 \nL 58.015625 25.390625 \nL 58.015625 17.1875 \nL 47.609375 17.1875 \nL 47.609375 0 \nL 37.796875 0 \nL 37.796875 17.1875 \nL 4.890625 17.1875 \nL 4.890625 26.703125 \nz\n\" id=\"DejaVuSans-52\"/>\n      </defs>\n      <g style=\"fill:#262626;\" transform=\"translate(287.585938 178.883792)scale(0.11 -0.11)\">\n       <use xlink:href=\"#DejaVuSans-48\"/>\n       <use x=\"63.623047\" xlink:href=\"#DejaVuSans-46\"/>\n       <use x=\"95.410156\" xlink:href=\"#DejaVuSans-52\"/>\n      </g>\n     </g>\n    </g>\n    <g id=\"ytick_7\">\n     <g id=\"line2d_9\">\n      <g>\n       <use style=\"fill:#262626;stroke:#262626;stroke-width:1.25;\" x=\"278.085938\" xlink:href=\"#m28954b5df4\" y=\"143.1\"/>\n      </g>\n     </g>\n     <g id=\"text_13\">\n      <!-- 0.5 -->\n      <defs>\n       <path d=\"M 10.796875 72.90625 \nL 49.515625 72.90625 \nL 49.515625 64.59375 \nL 19.828125 64.59375 \nL 19.828125 46.734375 \nQ 21.96875 47.46875 24.109375 47.828125 \nQ 26.265625 48.1875 28.421875 48.1875 \nQ 40.625 48.1875 47.75 41.5 \nQ 54.890625 34.8125 54.890625 23.390625 \nQ 54.890625 11.625 47.5625 5.09375 \nQ 40.234375 -1.421875 26.90625 -1.421875 \nQ 22.3125 -1.421875 17.546875 -0.640625 \nQ 12.796875 0.140625 7.71875 1.703125 \nL 7.71875 11.625 \nQ 12.109375 9.234375 16.796875 8.0625 \nQ 21.484375 6.890625 26.703125 6.890625 \nQ 35.15625 6.890625 40.078125 11.328125 \nQ 45.015625 15.765625 45.015625 23.390625 \nQ 45.015625 31 40.078125 35.4375 \nQ 35.15625 39.890625 26.703125 39.890625 \nQ 22.75 39.890625 18.8125 39.015625 \nQ 14.890625 38.140625 10.796875 36.28125 \nz\n\" id=\"DejaVuSans-53\"/>\n      </defs>\n      <g style=\"fill:#262626;\" transform=\"translate(287.585938 147.279141)scale(0.11 -0.11)\">\n       <use xlink:href=\"#DejaVuSans-48\"/>\n       <use x=\"63.623047\" xlink:href=\"#DejaVuSans-46\"/>\n       <use x=\"95.410156\" xlink:href=\"#DejaVuSans-53\"/>\n      </g>\n     </g>\n    </g>\n    <g id=\"ytick_8\">\n     <g id=\"line2d_10\">\n      <g>\n       <use style=\"fill:#262626;stroke:#262626;stroke-width:1.25;\" x=\"278.085938\" xlink:href=\"#m28954b5df4\" y=\"111.495349\"/>\n      </g>\n     </g>\n     <g id=\"text_14\">\n      <!-- 0.6 -->\n      <defs>\n       <path d=\"M 33.015625 40.375 \nQ 26.375 40.375 22.484375 35.828125 \nQ 18.609375 31.296875 18.609375 23.390625 \nQ 18.609375 15.53125 22.484375 10.953125 \nQ 26.375 6.390625 33.015625 6.390625 \nQ 39.65625 6.390625 43.53125 10.953125 \nQ 47.40625 15.53125 47.40625 23.390625 \nQ 47.40625 31.296875 43.53125 35.828125 \nQ 39.65625 40.375 33.015625 40.375 \nz\nM 52.59375 71.296875 \nL 52.59375 62.3125 \nQ 48.875 64.0625 45.09375 64.984375 \nQ 41.3125 65.921875 37.59375 65.921875 \nQ 27.828125 65.921875 22.671875 59.328125 \nQ 17.53125 52.734375 16.796875 39.40625 \nQ 19.671875 43.65625 24.015625 45.921875 \nQ 28.375 48.1875 33.59375 48.1875 \nQ 44.578125 48.1875 50.953125 41.515625 \nQ 57.328125 34.859375 57.328125 23.390625 \nQ 57.328125 12.15625 50.6875 5.359375 \nQ 44.046875 -1.421875 33.015625 -1.421875 \nQ 20.359375 -1.421875 13.671875 8.265625 \nQ 6.984375 17.96875 6.984375 36.375 \nQ 6.984375 53.65625 15.1875 63.9375 \nQ 23.390625 74.21875 37.203125 74.21875 \nQ 40.921875 74.21875 44.703125 73.484375 \nQ 48.484375 72.75 52.59375 71.296875 \nz\n\" id=\"DejaVuSans-54\"/>\n      </defs>\n      <g style=\"fill:#262626;\" transform=\"translate(287.585938 115.674489)scale(0.11 -0.11)\">\n       <use xlink:href=\"#DejaVuSans-48\"/>\n       <use x=\"63.623047\" xlink:href=\"#DejaVuSans-46\"/>\n       <use x=\"95.410156\" xlink:href=\"#DejaVuSans-54\"/>\n      </g>\n     </g>\n    </g>\n    <g id=\"ytick_9\">\n     <g id=\"line2d_11\">\n      <g>\n       <use style=\"fill:#262626;stroke:#262626;stroke-width:1.25;\" x=\"278.085938\" xlink:href=\"#m28954b5df4\" y=\"79.890698\"/>\n      </g>\n     </g>\n     <g id=\"text_15\">\n      <!-- 0.7 -->\n      <g style=\"fill:#262626;\" transform=\"translate(287.585938 84.069838)scale(0.11 -0.11)\">\n       <use xlink:href=\"#DejaVuSans-48\"/>\n       <use x=\"63.623047\" xlink:href=\"#DejaVuSans-46\"/>\n       <use x=\"95.410156\" xlink:href=\"#DejaVuSans-55\"/>\n      </g>\n     </g>\n    </g>\n    <g id=\"ytick_10\">\n     <g id=\"line2d_12\">\n      <g>\n       <use style=\"fill:#262626;stroke:#262626;stroke-width:1.25;\" x=\"278.085938\" xlink:href=\"#m28954b5df4\" y=\"48.286047\"/>\n      </g>\n     </g>\n     <g id=\"text_16\">\n      <!-- 0.8 -->\n      <defs>\n       <path d=\"M 31.78125 34.625 \nQ 24.75 34.625 20.71875 30.859375 \nQ 16.703125 27.09375 16.703125 20.515625 \nQ 16.703125 13.921875 20.71875 10.15625 \nQ 24.75 6.390625 31.78125 6.390625 \nQ 38.8125 6.390625 42.859375 10.171875 \nQ 46.921875 13.96875 46.921875 20.515625 \nQ 46.921875 27.09375 42.890625 30.859375 \nQ 38.875 34.625 31.78125 34.625 \nz\nM 21.921875 38.8125 \nQ 15.578125 40.375 12.03125 44.71875 \nQ 8.5 49.078125 8.5 55.328125 \nQ 8.5 64.0625 14.71875 69.140625 \nQ 20.953125 74.21875 31.78125 74.21875 \nQ 42.671875 74.21875 48.875 69.140625 \nQ 55.078125 64.0625 55.078125 55.328125 \nQ 55.078125 49.078125 51.53125 44.71875 \nQ 48 40.375 41.703125 38.8125 \nQ 48.828125 37.15625 52.796875 32.3125 \nQ 56.78125 27.484375 56.78125 20.515625 \nQ 56.78125 9.90625 50.3125 4.234375 \nQ 43.84375 -1.421875 31.78125 -1.421875 \nQ 19.734375 -1.421875 13.25 4.234375 \nQ 6.78125 9.90625 6.78125 20.515625 \nQ 6.78125 27.484375 10.78125 32.3125 \nQ 14.796875 37.15625 21.921875 38.8125 \nz\nM 18.3125 54.390625 \nQ 18.3125 48.734375 21.84375 45.5625 \nQ 25.390625 42.390625 31.78125 42.390625 \nQ 38.140625 42.390625 41.71875 45.5625 \nQ 45.3125 48.734375 45.3125 54.390625 \nQ 45.3125 60.0625 41.71875 63.234375 \nQ 38.140625 66.40625 31.78125 66.40625 \nQ 25.390625 66.40625 21.84375 63.234375 \nQ 18.3125 60.0625 18.3125 54.390625 \nz\n\" id=\"DejaVuSans-56\"/>\n      </defs>\n      <g style=\"fill:#262626;\" transform=\"translate(287.585938 52.465187)scale(0.11 -0.11)\">\n       <use xlink:href=\"#DejaVuSans-48\"/>\n       <use x=\"63.623047\" xlink:href=\"#DejaVuSans-46\"/>\n       <use x=\"95.410156\" xlink:href=\"#DejaVuSans-56\"/>\n      </g>\n     </g>\n    </g>\n    <g id=\"ytick_11\">\n     <g id=\"line2d_13\">\n      <g>\n       <use style=\"fill:#262626;stroke:#262626;stroke-width:1.25;\" x=\"278.085938\" xlink:href=\"#m28954b5df4\" y=\"16.681395\"/>\n      </g>\n     </g>\n     <g id=\"text_17\">\n      <!-- 0.9 -->\n      <g style=\"fill:#262626;\" transform=\"translate(287.585938 20.860536)scale(0.11 -0.11)\">\n       <use xlink:href=\"#DejaVuSans-48\"/>\n       <use x=\"63.623047\" xlink:href=\"#DejaVuSans-46\"/>\n       <use x=\"95.410156\" xlink:href=\"#DejaVuSans-57\"/>\n      </g>\n     </g>\n    </g>\n   </g>\n   <image height=\"271.44\" id=\"imagea9aa2ff6b6\" transform=\"scale(1 -1)translate(0 -271.44)\" width=\"13.68\" x=\"264.24\" xlink:href=\"data:image/png;base64,\niVBORw0KGgoAAAANSUhEUgAAABMAAAF5CAYAAAB9SBFEAAAABHNCSVQICAgIfAhkiAAAAclJREFUeJztm8GNw0AMAzeH9N/ove/rvRokDOABSBVAZJYSrTWcz/37vQeq7zmY1vmey4n9YEqnmDsxTsuNGeJmMYdVzHmxmNeK6T0z+JeBBnQCNmLFnFYxXxbzYoa4SWM+mJgaU+smaIAZ09q06jPLwGTXUG2eoZheN8mm1V4RcyJIGtvm2WwETUscQT2zhZgXE43tkDd74thGm1aL+dTNN8U6m/OKWZBTmlbqZs9sXvTTqRMwF9O62TxbiNXNYXWlmlfdXIllDHrKFbGYc7FiDquY8yrmSqyYwwrBNO8a1jMr5ryKuRLLwATf7LGY5HdB6qQN+ZYqws2LrgfghV89mxErVfNsLna1E4DmGZkaYkxv02rzTOymeTa7Ur0pZl6pQs6M/V4D0zLHNqhlxhQ3LWiAOLZRzLo5LvFseiMIvu5gWiluqgddemZizK5U4xJjgn+rM2OaH8KgmDlpUTEtJikGvqQyuwkmEIxJGhDTGqTYcz+YWEhrFHNeLKY3z0Jim8XUJi1pgPi6U8yFGPjcTDmzEExvnnVBXohpMUNmM8TNzuZCLAMz5IrIvsDktNytYX1900GfizW2x1XMeXVz3IhpMevmuP4BLSrfpMCVKPIAAAAASUVORK5CYII=\" y=\"-7.2\"/>\n   <g id=\"patch_4\">\n    <path d=\"M 264.495938 279 \nL 264.495938 277.938281 \nL 264.495938 8.261719 \nL 264.495938 7.2 \nL 278.085938 7.2 \nL 278.085938 8.261719 \nL 278.085938 277.938281 \nL 278.085938 279 \nz\n\" style=\"fill:none;\"/>\n   </g>\n  </g>\n </g>\n <defs>\n  <clipPath id=\"p853309fe47\">\n   <rect height=\"271.8\" width=\"223.2\" x=\"27.345938\" y=\"7.2\"/>\n  </clipPath>\n  <clipPath id=\"pd7b74cc50c\">\n   <rect height=\"271.8\" width=\"13.59\" x=\"264.495938\" y=\"7.2\"/>\n  </clipPath>\n </defs>\n</svg>\n"
          },
          "metadata": {}
        }
      ]
    },
    {
      "cell_type": "code",
      "metadata": {
        "colab": {
          "base_uri": "https://localhost:8080/"
        },
        "id": "zTuik-CKTRGX",
        "outputId": "0f631bc9-0d3d-4379-ef86-54afcc5f2d6c"
      },
      "source": [
        "from sklearn.metrics import classification_report\n",
        "Y_pred = model.predict(X_test)\n",
        "Y_test_non_category = [ np.argmax(t) for t in Y_test.values]\n",
        "Y_predict_non_category = [ np.argmax(t) for t in Y_pred ]\n",
        "\n",
        "print(classification_report(Y_test_non_category,Y_predict_non_category))"
      ],
      "execution_count": null,
      "outputs": [
        {
          "output_type": "stream",
          "name": "stdout",
          "text": [
            "              precision    recall  f1-score   support\n",
            "\n",
            "           0       0.90      0.93      0.91       385\n",
            "           1       0.93      0.90      0.91       382\n",
            "\n",
            "    accuracy                           0.91       767\n",
            "   macro avg       0.91      0.91      0.91       767\n",
            "weighted avg       0.91      0.91      0.91       767\n",
            "\n"
          ]
        }
      ]
    },
    {
      "cell_type": "markdown",
      "metadata": {
        "id": "cQYohnWiTMKH"
      },
      "source": [
        "Hasil menunjukkan nilai f1-score pada akurasi mencapai 0.91, sehingga dapat disimpulkan bahwa model yang dibuat memiliki presisi dan recall yang sangat baik."
      ]
    },
    {
      "cell_type": "markdown",
      "metadata": {
        "id": "xfZgMXN2RioW"
      },
      "source": [
        "#Final Accuracy"
      ]
    },
    {
      "cell_type": "code",
      "metadata": {
        "colab": {
          "base_uri": "https://localhost:8080/"
        },
        "id": "4g3lQfc-2yRS",
        "outputId": "6078e09f-6fba-4886-9fe1-5f780a463da0"
      },
      "source": [
        "# Final evaluation of the model\n",
        "scores = model.evaluate(X_test, Y_test, verbose=1)\n",
        "print(\"Accuracy: %.2f%%\" % (scores[1]*100))"
      ],
      "execution_count": null,
      "outputs": [
        {
          "output_type": "stream",
          "name": "stdout",
          "text": [
            "24/24 [==============================] - 0s 11ms/step - loss: 0.2513 - accuracy: 0.9126\n",
            "Accuracy: 91.26%\n"
          ]
        }
      ]
    },
    {
      "cell_type": "markdown",
      "metadata": {
        "id": "StjqofSyRlYf"
      },
      "source": [
        "#Write Model"
      ]
    },
    {
      "cell_type": "code",
      "metadata": {
        "id": "GRqgMZc6u1T6"
      },
      "source": [
        "model.save(\"/content/model.h5\")"
      ],
      "execution_count": null,
      "outputs": []
    }
  ]
}