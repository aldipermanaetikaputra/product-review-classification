{
  "nbformat": 4,
  "nbformat_minor": 0,
  "metadata": {
    "accelerator": "GPU",
    "colab": {
      "name": "Data Preprocessing.ipynb",
      "provenance": [],
      "collapsed_sections": []
    },
    "kernelspec": {
      "display_name": "Python 3",
      "name": "python3"
    },
    "language_info": {
      "name": "python"
    }
  },
  "cells": [
    {
      "cell_type": "markdown",
      "metadata": {
        "id": "N9uO3-QnfwMn"
      },
      "source": [
        "#Install Library"
      ]
    },
    {
      "cell_type": "code",
      "metadata": {
        "id": "7sTSSQdjCWY_",
        "colab": {
          "base_uri": "https://localhost:8080/"
        },
        "outputId": "b11252b6-ec5a-402f-e6f9-44f76240f82b"
      },
      "source": [
        "!pip install sastrawi"
      ],
      "execution_count": 11,
      "outputs": [
        {
          "output_type": "stream",
          "name": "stdout",
          "text": [
            "Collecting sastrawi\n",
            "  Downloading Sastrawi-1.0.1-py2.py3-none-any.whl (209 kB)\n",
            "\u001b[K     |████████████████████████████████| 209 kB 5.3 MB/s \n",
            "\u001b[?25hInstalling collected packages: sastrawi\n",
            "Successfully installed sastrawi-1.0.1\n"
          ]
        }
      ]
    },
    {
      "cell_type": "markdown",
      "metadata": {
        "id": "gnTQm-urfzl0"
      },
      "source": [
        "#Data Cleaning\n",
        "* Melakukan prapemrosesan pada suatu kalimat dengan menghilangkan formatting pada kalimat\n",
        "* Menghilangkan stopword pada kalimat, mengganti kata alay yang sudah terdefinisikan\n",
        "* Serta melakukan stemming kalimat tersebut"
      ]
    },
    {
      "cell_type": "code",
      "metadata": {
        "id": "ENdAOp8vCk-p"
      },
      "source": [
        "import pandas as pd\n",
        "import re\n",
        "import string\n",
        "from tqdm import tqdm\n",
        "from Sastrawi.Stemmer.StemmerFactory import StemmerFactory\n",
        "\n",
        "class DataCleaning:\n",
        "  # Initialization\n",
        "  factory     = StemmerFactory()\n",
        "  stemmer     = factory.create_stemmer()\n",
        "  kamus_alay1 = pd.read_csv('https://raw.githubusercontent.com/fendiirfan/Kamus-Alay/main/Kamu-Alay.csv')\n",
        "  kamus_alay1 = kamus_alay1.set_index('kataAlay')\n",
        "  kamus_alay2 = pd.read_csv('https://raw.githubusercontent.com/nasalsabila/kamus-alay/master/colloquial-indonesian-lexicon.csv')\n",
        "  kamus_alay2 = kamus_alay2.filter(['slang', 'formal'], axis=1)\n",
        "  kamus_alay2 = kamus_alay2.drop_duplicates(subset=['slang'], keep='first')\n",
        "  kamus_alay2 = kamus_alay2.set_index('slang')\n",
        "  stopword   = list(pd.read_csv('https://raw.githubusercontent.com/datascienceid/stopwords-bahasa-indonesia/master/stopwords_id_satya.txt', header = None)[0])\n",
        "\n",
        "  @classmethod\n",
        "  def CleanDataFrame(cls, df, col_name, label_name, minimum_kata=0, label_mapping=None, dropna=False, stem=False, stop=False):\n",
        "\n",
        "    final_list_clean = []\n",
        "    final_list_kotor = []\n",
        "    final_label = []\n",
        "\n",
        "    i = 0\n",
        "    current = 0\n",
        "    \n",
        "    while i < len(df):\n",
        "      current_kalimat = str(df.iloc[i][col_name])\n",
        "      current_label = df.iloc[i][label_name]\n",
        "\n",
        "      clean_kalimat = cls.__cleanSentence__(current_kalimat, stem, stop)\n",
        "      if type(clean_kalimat) != str or clean_kalimat == None or clean_kalimat == \"\":\n",
        "        clean_kalimat = \"\"\n",
        "      if (len(clean_kalimat.split(' ')) >= minimum_kata):\n",
        "        final_list_clean.append(str(clean_kalimat))\n",
        "        final_list_kotor.append(str(current_kalimat))\n",
        "        if label_mapping != None:\n",
        "          final_label.append(label_mapping[current_label])\n",
        "        else:\n",
        "          final_label.append(current_label)\n",
        "        current += 1\n",
        "\n",
        "      if i % 5000 == 0:\n",
        "        print(\"Memproses {} data\".format(i))\n",
        "      i += 1\n",
        "    \n",
        "    data = {\n",
        "        'raw': final_list_kotor,\n",
        "        'processed': final_list_clean,\n",
        "        'label': final_label\n",
        "    }\n",
        "\n",
        "    final_df = pd.DataFrame(data)\n",
        "    if dropna:\n",
        "      final_df.dropna(inplace=True)\n",
        "    \n",
        "    print(\"Hasil cleaning: {} data\".format(len(final_df.index)))\n",
        "\n",
        "    final_df['processed'] = final_df['processed'].astype(str)\n",
        "    final_df['raw'] = final_df['raw'].astype(str)\n",
        "    return final_df\n",
        "\n",
        "  @classmethod\n",
        "  def __cleanSentence__(cls, text, stem, stop):\n",
        "\n",
        "    temp_text = list(text)\n",
        "    for i in range(len(temp_text)):\n",
        "      if temp_text[i] in string.punctuation:\n",
        "        temp_text[i] = \" \"\n",
        "\n",
        "    text = ''.join(temp_text)\n",
        "\n",
        "    #will consider only alphabets\n",
        "    text = re.sub('[^a-zA-Z]',' ',text) \n",
        "    #will replace newline with space\n",
        "    text = re.sub(\"\\n\",\" \",text)\n",
        "    #will convert to lower case\n",
        "    text = text.lower()\n",
        "    # will repalce repated char\n",
        "    text = re.sub(r'(\\w)(\\1{2,})', r\"\\1\", text)\n",
        "    # will replace space more than one\n",
        "    text = re.sub('(s{2,})',' ',text)\n",
        "    # will join the words\n",
        "    text=' '.join(text.split())\n",
        "\n",
        "    # unformal word to formal\n",
        "    text_split = text.split(' ')\n",
        "    for i in range(len(text_split)):\n",
        "      if text_split[i] in cls.kamus_alay1.index:\n",
        "        text_split[i] = cls.kamus_alay1.loc[text_split[i]]['kataBaik']\n",
        "      elif text_split[i] in cls.kamus_alay2.index:\n",
        "        text_split[i] = cls.kamus_alay2.loc[text_split[i]]['formal']\n",
        "\n",
        "    # remove stopword\n",
        "    if stop:\n",
        "      temp_text_split = []\n",
        "      for i in range(len(text_split)):\n",
        "        if (text_split[i] not in cls.stopword):\n",
        "          temp_text_split.append(text_split[i])\n",
        "\n",
        "      final_text = ' '.join(temp_text_split)\n",
        "    else:\n",
        "      final_text = ' '.join(text_split)\n",
        "\n",
        "    if stem: return cls.stemmer.stem(final_text)\n",
        "    else: return final_text"
      ],
      "execution_count": 12,
      "outputs": []
    },
    {
      "cell_type": "markdown",
      "metadata": {
        "id": "dyZdZ4OxgPLM"
      },
      "source": [
        "#Load Data\n",
        "* Data review seluruh produk Unilever dan Nestle dari Tokopedia\n",
        "* Deklarasi nama kolom\n",
        "* Casting tipe data"
      ]
    },
    {
      "cell_type": "code",
      "metadata": {
        "colab": {
          "base_uri": "https://localhost:8080/",
          "height": 419
        },
        "id": "h01W8mLUM_Hd",
        "outputId": "63e75907-32d6-4e65-f2c4-8b18da60793f"
      },
      "source": [
        "import pandas as pd\n",
        "\n",
        "data = pd.read_csv(\"data_original.csv\", names=['product_id', 'review', 'rating'], header=None, lineterminator='\\n')\n",
        "\n",
        "data['product_id'] = data['product_id'].astype(int)\n",
        "data['review'] = data['review'].astype(\"string\")\n",
        "data['rating'] = data['rating'].astype(int)\n",
        "\n",
        "data"
      ],
      "execution_count": 13,
      "outputs": [
        {
          "output_type": "execute_result",
          "data": {
            "text/html": [
              "<div>\n",
              "<style scoped>\n",
              "    .dataframe tbody tr th:only-of-type {\n",
              "        vertical-align: middle;\n",
              "    }\n",
              "\n",
              "    .dataframe tbody tr th {\n",
              "        vertical-align: top;\n",
              "    }\n",
              "\n",
              "    .dataframe thead th {\n",
              "        text-align: right;\n",
              "    }\n",
              "</style>\n",
              "<table border=\"1\" class=\"dataframe\">\n",
              "  <thead>\n",
              "    <tr style=\"text-align: right;\">\n",
              "      <th></th>\n",
              "      <th>product_id</th>\n",
              "      <th>review</th>\n",
              "      <th>rating</th>\n",
              "    </tr>\n",
              "  </thead>\n",
              "  <tbody>\n",
              "    <tr>\n",
              "      <th>0</th>\n",
              "      <td>611592417</td>\n",
              "      <td>NO COMENT</td>\n",
              "      <td>1</td>\n",
              "    </tr>\n",
              "    <tr>\n",
              "      <th>1</th>\n",
              "      <td>611592417</td>\n",
              "      <td>Lama banget; tumben Unilever slow respon; tolo...</td>\n",
              "      <td>1</td>\n",
              "    </tr>\n",
              "    <tr>\n",
              "      <th>2</th>\n",
              "      <td>611592417</td>\n",
              "      <td>paket tidak saya terima; saya kecewa karena pa...</td>\n",
              "      <td>1</td>\n",
              "    </tr>\n",
              "    <tr>\n",
              "      <th>3</th>\n",
              "      <td>611592417</td>\n",
              "      <td>minta dicancel; chat sudah dibaca tpi tetap di...</td>\n",
              "      <td>1</td>\n",
              "    </tr>\n",
              "    <tr>\n",
              "      <th>4</th>\n",
              "      <td>611592417</td>\n",
              "      <td>Lamban sekali pengiriman nya</td>\n",
              "      <td>1</td>\n",
              "    </tr>\n",
              "    <tr>\n",
              "      <th>...</th>\n",
              "      <td>...</td>\n",
              "      <td>...</td>\n",
              "      <td>...</td>\n",
              "    </tr>\n",
              "    <tr>\n",
              "      <th>125422</th>\n",
              "      <td>2201006015</td>\n",
              "      <td>&lt;NA&gt;</td>\n",
              "      <td>5</td>\n",
              "    </tr>\n",
              "    <tr>\n",
              "      <th>125423</th>\n",
              "      <td>2201006015</td>\n",
              "      <td>&lt;NA&gt;</td>\n",
              "      <td>5</td>\n",
              "    </tr>\n",
              "    <tr>\n",
              "      <th>125424</th>\n",
              "      <td>2201006015</td>\n",
              "      <td>&lt;NA&gt;</td>\n",
              "      <td>5</td>\n",
              "    </tr>\n",
              "    <tr>\n",
              "      <th>125425</th>\n",
              "      <td>2201006015</td>\n",
              "      <td>&lt;NA&gt;</td>\n",
              "      <td>5</td>\n",
              "    </tr>\n",
              "    <tr>\n",
              "      <th>125426</th>\n",
              "      <td>2201006015</td>\n",
              "      <td>&lt;NA&gt;</td>\n",
              "      <td>5</td>\n",
              "    </tr>\n",
              "  </tbody>\n",
              "</table>\n",
              "<p>125427 rows × 3 columns</p>\n",
              "</div>"
            ],
            "text/plain": [
              "        product_id                                             review  rating\n",
              "0        611592417                                          NO COMENT       1\n",
              "1        611592417  Lama banget; tumben Unilever slow respon; tolo...       1\n",
              "2        611592417  paket tidak saya terima; saya kecewa karena pa...       1\n",
              "3        611592417  minta dicancel; chat sudah dibaca tpi tetap di...       1\n",
              "4        611592417                       Lamban sekali pengiriman nya       1\n",
              "...            ...                                                ...     ...\n",
              "125422  2201006015                                               <NA>       5\n",
              "125423  2201006015                                               <NA>       5\n",
              "125424  2201006015                                               <NA>       5\n",
              "125425  2201006015                                               <NA>       5\n",
              "125426  2201006015                                               <NA>       5\n",
              "\n",
              "[125427 rows x 3 columns]"
            ]
          },
          "metadata": {},
          "execution_count": 13
        }
      ]
    },
    {
      "cell_type": "code",
      "source": [
        "data.info()"
      ],
      "metadata": {
        "colab": {
          "base_uri": "https://localhost:8080/"
        },
        "id": "yryTQl1JcozZ",
        "outputId": "fa39441d-117b-4e11-a21d-0d96135321c2"
      },
      "execution_count": 14,
      "outputs": [
        {
          "output_type": "stream",
          "name": "stdout",
          "text": [
            "<class 'pandas.core.frame.DataFrame'>\n",
            "RangeIndex: 125427 entries, 0 to 125426\n",
            "Data columns (total 3 columns):\n",
            " #   Column      Non-Null Count   Dtype \n",
            "---  ------      --------------   ----- \n",
            " 0   product_id  125427 non-null  int64 \n",
            " 1   review      72279 non-null   string\n",
            " 2   rating      125427 non-null  int64 \n",
            "dtypes: int64(2), string(1)\n",
            "memory usage: 2.9 MB\n"
          ]
        }
      ]
    },
    {
      "cell_type": "markdown",
      "metadata": {
        "id": "-0G0FfvMgtKM"
      },
      "source": [
        "# Handling Missing Value\n",
        "\n",
        "\n",
        "*   Drop missing value \n",
        "*   Drop duplicates data\n",
        "\n"
      ]
    },
    {
      "cell_type": "code",
      "metadata": {
        "colab": {
          "base_uri": "https://localhost:8080/"
        },
        "id": "skM3WyJ5QOyY",
        "outputId": "04ecbb36-13da-43c7-e760-46ca9e932143"
      },
      "source": [
        "data.dropna(inplace=True)\n",
        "data.drop_duplicates(subset=['product_id', 'review', 'rating'], keep='last', inplace=True)\n",
        "data.shape"
      ],
      "execution_count": 15,
      "outputs": [
        {
          "output_type": "execute_result",
          "data": {
            "text/plain": [
              "(59785, 3)"
            ]
          },
          "metadata": {},
          "execution_count": 15
        }
      ]
    },
    {
      "cell_type": "markdown",
      "metadata": {
        "id": "ftFXyxL4g__s"
      },
      "source": [
        "# Set sentiment value\n",
        "\n",
        "\n",
        "*   Negative for rating 1,2,3\n",
        "*   Positive for rating 4,5\n",
        "\n"
      ]
    },
    {
      "cell_type": "code",
      "metadata": {
        "colab": {
          "base_uri": "https://localhost:8080/",
          "height": 204
        },
        "id": "HpwyFtSBRmkG",
        "outputId": "004c990b-4192-4fc3-d7e2-bf5e665cfd1e"
      },
      "source": [
        "def sentiment(x):\n",
        " if x <= 3: return(0)\n",
        " return(1)\n",
        "\n",
        "data['sentiment'] = data['rating'].apply(sentiment)\n",
        "data.head()"
      ],
      "execution_count": 16,
      "outputs": [
        {
          "output_type": "execute_result",
          "data": {
            "text/html": [
              "<div>\n",
              "<style scoped>\n",
              "    .dataframe tbody tr th:only-of-type {\n",
              "        vertical-align: middle;\n",
              "    }\n",
              "\n",
              "    .dataframe tbody tr th {\n",
              "        vertical-align: top;\n",
              "    }\n",
              "\n",
              "    .dataframe thead th {\n",
              "        text-align: right;\n",
              "    }\n",
              "</style>\n",
              "<table border=\"1\" class=\"dataframe\">\n",
              "  <thead>\n",
              "    <tr style=\"text-align: right;\">\n",
              "      <th></th>\n",
              "      <th>product_id</th>\n",
              "      <th>review</th>\n",
              "      <th>rating</th>\n",
              "      <th>sentiment</th>\n",
              "    </tr>\n",
              "  </thead>\n",
              "  <tbody>\n",
              "    <tr>\n",
              "      <th>50</th>\n",
              "      <td>611592417</td>\n",
              "      <td>NO COMENT</td>\n",
              "      <td>1</td>\n",
              "      <td>0</td>\n",
              "    </tr>\n",
              "    <tr>\n",
              "      <th>51</th>\n",
              "      <td>611592417</td>\n",
              "      <td>Lama banget; tumben Unilever slow respon; tolo...</td>\n",
              "      <td>1</td>\n",
              "      <td>0</td>\n",
              "    </tr>\n",
              "    <tr>\n",
              "      <th>52</th>\n",
              "      <td>611592417</td>\n",
              "      <td>paket tidak saya terima; saya kecewa karena pa...</td>\n",
              "      <td>1</td>\n",
              "      <td>0</td>\n",
              "    </tr>\n",
              "    <tr>\n",
              "      <th>53</th>\n",
              "      <td>611592417</td>\n",
              "      <td>minta dicancel; chat sudah dibaca tpi tetap di...</td>\n",
              "      <td>1</td>\n",
              "      <td>0</td>\n",
              "    </tr>\n",
              "    <tr>\n",
              "      <th>54</th>\n",
              "      <td>611592417</td>\n",
              "      <td>Lamban sekali pengiriman nya</td>\n",
              "      <td>1</td>\n",
              "      <td>0</td>\n",
              "    </tr>\n",
              "  </tbody>\n",
              "</table>\n",
              "</div>"
            ],
            "text/plain": [
              "    product_id  ... sentiment\n",
              "50   611592417  ...         0\n",
              "51   611592417  ...         0\n",
              "52   611592417  ...         0\n",
              "53   611592417  ...         0\n",
              "54   611592417  ...         0\n",
              "\n",
              "[5 rows x 4 columns]"
            ]
          },
          "metadata": {},
          "execution_count": 16
        }
      ]
    },
    {
      "cell_type": "markdown",
      "metadata": {
        "id": "h0Qq9ve9hN78"
      },
      "source": [
        "# Perform data cleaning"
      ]
    },
    {
      "cell_type": "code",
      "metadata": {
        "id": "HjJH9aOoC8aS",
        "colab": {
          "base_uri": "https://localhost:8080/",
          "height": 640
        },
        "outputId": "98ce0de1-21a2-4428-ef2e-3b83cfadbdfe"
      },
      "source": [
        "data_clean = DataCleaning.CleanDataFrame(df = data, col_name='review', label_name='sentiment', dropna=True, minimum_kata=3, stem=True, stop=False)\n",
        "data_clean"
      ],
      "execution_count": 17,
      "outputs": [
        {
          "output_type": "stream",
          "name": "stdout",
          "text": [
            "Memproses 0 data\n",
            "Memproses 5000 data\n",
            "Memproses 10000 data\n",
            "Memproses 15000 data\n",
            "Memproses 20000 data\n",
            "Memproses 25000 data\n",
            "Memproses 30000 data\n",
            "Memproses 35000 data\n",
            "Memproses 40000 data\n",
            "Memproses 45000 data\n",
            "Memproses 50000 data\n",
            "Memproses 55000 data\n",
            "Hasil cleaning: 48003 data\n"
          ]
        },
        {
          "output_type": "execute_result",
          "data": {
            "text/html": [
              "<div>\n",
              "<style scoped>\n",
              "    .dataframe tbody tr th:only-of-type {\n",
              "        vertical-align: middle;\n",
              "    }\n",
              "\n",
              "    .dataframe tbody tr th {\n",
              "        vertical-align: top;\n",
              "    }\n",
              "\n",
              "    .dataframe thead th {\n",
              "        text-align: right;\n",
              "    }\n",
              "</style>\n",
              "<table border=\"1\" class=\"dataframe\">\n",
              "  <thead>\n",
              "    <tr style=\"text-align: right;\">\n",
              "      <th></th>\n",
              "      <th>raw</th>\n",
              "      <th>processed</th>\n",
              "      <th>label</th>\n",
              "    </tr>\n",
              "  </thead>\n",
              "  <tbody>\n",
              "    <tr>\n",
              "      <th>0</th>\n",
              "      <td>Lama banget; tumben Unilever slow respon; tolo...</td>\n",
              "      <td>lama banget tumben unilever slow respon tolong...</td>\n",
              "      <td>0</td>\n",
              "    </tr>\n",
              "    <tr>\n",
              "      <th>1</th>\n",
              "      <td>paket tidak saya terima; saya kecewa karena pa...</td>\n",
              "      <td>paket tidak saya terima saya kecewa karena pak...</td>\n",
              "      <td>0</td>\n",
              "    </tr>\n",
              "    <tr>\n",
              "      <th>2</th>\n",
              "      <td>minta dicancel; chat sudah dibaca tpi tetap di...</td>\n",
              "      <td>minta dicancel chat sudah baca tapi tetap di p...</td>\n",
              "      <td>0</td>\n",
              "    </tr>\n",
              "    <tr>\n",
              "      <th>3</th>\n",
              "      <td>Lamban sekali pengiriman nya</td>\n",
              "      <td>lamban sekali kirim nya</td>\n",
              "      <td>0</td>\n",
              "    </tr>\n",
              "    <tr>\n",
              "      <th>4</th>\n",
              "      <td>Packaging yg dilakukan oleh pihak penjual sang...</td>\n",
              "      <td>packaging yang laku oleh pihak jual sangat kec...</td>\n",
              "      <td>0</td>\n",
              "    </tr>\n",
              "    <tr>\n",
              "      <th>...</th>\n",
              "      <td>...</td>\n",
              "      <td>...</td>\n",
              "      <td>...</td>\n",
              "    </tr>\n",
              "    <tr>\n",
              "      <th>47998</th>\n",
              "      <td>semua produk favorite 😁 terimakasih ya. sangat...</td>\n",
              "      <td>semua produk favorite terimakasih iya sangat m...</td>\n",
              "      <td>1</td>\n",
              "    </tr>\n",
              "    <tr>\n",
              "      <th>47999</th>\n",
              "      <td>Suka deh sama bundle kaya gini; makasih seller</td>\n",
              "      <td>suka deh sama bundle kayak begini terima kasih...</td>\n",
              "      <td>1</td>\n",
              "    </tr>\n",
              "    <tr>\n",
              "      <th>48000</th>\n",
              "      <td>sesuai deskripsi; admin responsif.</td>\n",
              "      <td>sesuai deskripsi admin responsif</td>\n",
              "      <td>1</td>\n",
              "    </tr>\n",
              "    <tr>\n",
              "      <th>48001</th>\n",
              "      <td>expirednya paling cepat tahun 2022. jadi worth...</td>\n",
              "      <td>expirednya paling cepat tahun jadi nila untuk ...</td>\n",
              "      <td>1</td>\n",
              "    </tr>\n",
              "    <tr>\n",
              "      <th>48002</th>\n",
              "      <td>Beli kemarin pagi; esok siangnya udah sampai (...</td>\n",
              "      <td>beli kemarin pagi esok siang sudah sampai tang...</td>\n",
              "      <td>1</td>\n",
              "    </tr>\n",
              "  </tbody>\n",
              "</table>\n",
              "<p>48003 rows × 3 columns</p>\n",
              "</div>"
            ],
            "text/plain": [
              "                                                     raw  ... label\n",
              "0      Lama banget; tumben Unilever slow respon; tolo...  ...     0\n",
              "1      paket tidak saya terima; saya kecewa karena pa...  ...     0\n",
              "2      minta dicancel; chat sudah dibaca tpi tetap di...  ...     0\n",
              "3                           Lamban sekali pengiriman nya  ...     0\n",
              "4      Packaging yg dilakukan oleh pihak penjual sang...  ...     0\n",
              "...                                                  ...  ...   ...\n",
              "47998  semua produk favorite 😁 terimakasih ya. sangat...  ...     1\n",
              "47999     Suka deh sama bundle kaya gini; makasih seller  ...     1\n",
              "48000                 sesuai deskripsi; admin responsif.  ...     1\n",
              "48001  expirednya paling cepat tahun 2022. jadi worth...  ...     1\n",
              "48002  Beli kemarin pagi; esok siangnya udah sampai (...  ...     1\n",
              "\n",
              "[48003 rows x 3 columns]"
            ]
          },
          "metadata": {},
          "execution_count": 17
        }
      ]
    },
    {
      "cell_type": "markdown",
      "metadata": {
        "id": "QJ3ZXa2QhRkr"
      },
      "source": [
        "# Write data clean"
      ]
    },
    {
      "cell_type": "code",
      "metadata": {
        "id": "kD51ee9TI9fK"
      },
      "source": [
        "data_clean.to_csv('data_clean.csv', index=False)"
      ],
      "execution_count": 18,
      "outputs": []
    },
    {
      "cell_type": "code",
      "source": [
        "import pandas as pd\n",
        "\n",
        "data_clean = pd.read_csv(\"data_clean.csv\", lineterminator='\\n')\n",
        "\n",
        "data_clean['raw'] = data_clean['raw'].astype(\"string\")\n",
        "data_clean['processed'] = data_clean['processed'].astype(\"string\")\n",
        "data_clean['label'] = data_clean['label'].astype(int)\n",
        "\n",
        "data_clean"
      ],
      "metadata": {
        "colab": {
          "base_uri": "https://localhost:8080/",
          "height": 419
        },
        "id": "TgpeMMQ_xsO-",
        "outputId": "27f206d9-daa9-4b3b-fe5e-8659a233ff3f"
      },
      "execution_count": 19,
      "outputs": [
        {
          "output_type": "execute_result",
          "data": {
            "text/html": [
              "<div>\n",
              "<style scoped>\n",
              "    .dataframe tbody tr th:only-of-type {\n",
              "        vertical-align: middle;\n",
              "    }\n",
              "\n",
              "    .dataframe tbody tr th {\n",
              "        vertical-align: top;\n",
              "    }\n",
              "\n",
              "    .dataframe thead th {\n",
              "        text-align: right;\n",
              "    }\n",
              "</style>\n",
              "<table border=\"1\" class=\"dataframe\">\n",
              "  <thead>\n",
              "    <tr style=\"text-align: right;\">\n",
              "      <th></th>\n",
              "      <th>raw</th>\n",
              "      <th>processed</th>\n",
              "      <th>label</th>\n",
              "    </tr>\n",
              "  </thead>\n",
              "  <tbody>\n",
              "    <tr>\n",
              "      <th>0</th>\n",
              "      <td>Lama banget; tumben Unilever slow respon; tolo...</td>\n",
              "      <td>lama banget tumben unilever slow respon tolong...</td>\n",
              "      <td>0</td>\n",
              "    </tr>\n",
              "    <tr>\n",
              "      <th>1</th>\n",
              "      <td>paket tidak saya terima; saya kecewa karena pa...</td>\n",
              "      <td>paket tidak saya terima saya kecewa karena pak...</td>\n",
              "      <td>0</td>\n",
              "    </tr>\n",
              "    <tr>\n",
              "      <th>2</th>\n",
              "      <td>minta dicancel; chat sudah dibaca tpi tetap di...</td>\n",
              "      <td>minta dicancel chat sudah baca tapi tetap di p...</td>\n",
              "      <td>0</td>\n",
              "    </tr>\n",
              "    <tr>\n",
              "      <th>3</th>\n",
              "      <td>Lamban sekali pengiriman nya</td>\n",
              "      <td>lamban sekali kirim nya</td>\n",
              "      <td>0</td>\n",
              "    </tr>\n",
              "    <tr>\n",
              "      <th>4</th>\n",
              "      <td>Packaging yg dilakukan oleh pihak penjual sang...</td>\n",
              "      <td>packaging yang laku oleh pihak jual sangat kec...</td>\n",
              "      <td>0</td>\n",
              "    </tr>\n",
              "    <tr>\n",
              "      <th>...</th>\n",
              "      <td>...</td>\n",
              "      <td>...</td>\n",
              "      <td>...</td>\n",
              "    </tr>\n",
              "    <tr>\n",
              "      <th>47998</th>\n",
              "      <td>semua produk favorite 😁 terimakasih ya. sangat...</td>\n",
              "      <td>semua produk favorite terimakasih iya sangat m...</td>\n",
              "      <td>1</td>\n",
              "    </tr>\n",
              "    <tr>\n",
              "      <th>47999</th>\n",
              "      <td>Suka deh sama bundle kaya gini; makasih seller</td>\n",
              "      <td>suka deh sama bundle kayak begini terima kasih...</td>\n",
              "      <td>1</td>\n",
              "    </tr>\n",
              "    <tr>\n",
              "      <th>48000</th>\n",
              "      <td>sesuai deskripsi; admin responsif.</td>\n",
              "      <td>sesuai deskripsi admin responsif</td>\n",
              "      <td>1</td>\n",
              "    </tr>\n",
              "    <tr>\n",
              "      <th>48001</th>\n",
              "      <td>expirednya paling cepat tahun 2022. jadi worth...</td>\n",
              "      <td>expirednya paling cepat tahun jadi nila untuk ...</td>\n",
              "      <td>1</td>\n",
              "    </tr>\n",
              "    <tr>\n",
              "      <th>48002</th>\n",
              "      <td>Beli kemarin pagi; esok siangnya udah sampai (...</td>\n",
              "      <td>beli kemarin pagi esok siang sudah sampai tang...</td>\n",
              "      <td>1</td>\n",
              "    </tr>\n",
              "  </tbody>\n",
              "</table>\n",
              "<p>48003 rows × 3 columns</p>\n",
              "</div>"
            ],
            "text/plain": [
              "                                                     raw  ... label\n",
              "0      Lama banget; tumben Unilever slow respon; tolo...  ...     0\n",
              "1      paket tidak saya terima; saya kecewa karena pa...  ...     0\n",
              "2      minta dicancel; chat sudah dibaca tpi tetap di...  ...     0\n",
              "3                           Lamban sekali pengiriman nya  ...     0\n",
              "4      Packaging yg dilakukan oleh pihak penjual sang...  ...     0\n",
              "...                                                  ...  ...   ...\n",
              "47998  semua produk favorite 😁 terimakasih ya. sangat...  ...     1\n",
              "47999     Suka deh sama bundle kaya gini; makasih seller  ...     1\n",
              "48000                 sesuai deskripsi; admin responsif.  ...     1\n",
              "48001  expirednya paling cepat tahun 2022. jadi worth...  ...     1\n",
              "48002  Beli kemarin pagi; esok siangnya udah sampai (...  ...     1\n",
              "\n",
              "[48003 rows x 3 columns]"
            ]
          },
          "metadata": {},
          "execution_count": 19
        }
      ]
    },
    {
      "cell_type": "markdown",
      "metadata": {
        "id": "pOprtofjhVJD"
      },
      "source": [
        "#Visualize data clean"
      ]
    },
    {
      "cell_type": "code",
      "metadata": {
        "colab": {
          "base_uri": "https://localhost:8080/",
          "height": 279
        },
        "id": "mcw3Git9HmNv",
        "outputId": "bc5bad7f-0809-486b-cc76-a1d6c30224bb"
      },
      "source": [
        "import seaborn as sns\n",
        "ax = sns.countplot(x=\"label\", data=data_clean)"
      ],
      "execution_count": 20,
      "outputs": [
        {
          "output_type": "display_data",
          "data": {
            "image/png": "[encoded data removed]",
            "text/plain": [
              "<Figure size 432x288 with 1 Axes>"
            ]
          },
          "metadata": {
            "needs_background": "light"
          }
        }
      ]
    },
    {
      "cell_type": "markdown",
      "source": [
        "# Handling Imbalance Data (Undersampling)\n",
        "\n",
        "\n"
      ],
      "metadata": {
        "id": "kYkVPcN29PIG"
      }
    },
    {
      "cell_type": "code",
      "source": [
        "from sklearn.utils import shuffle\n",
        "\n",
        "data_clean_0 = data_clean[data_clean[\"label\"] == 0]\n",
        "data_clean_1 = data_clean[data_clean[\"label\"] == 1]\n",
        "\n",
        "min_data = min([len(data_clean_0), len(data_clean_1)])\n",
        "data_balanced = pd.concat([data_clean_0.sample(min_data), data_clean_1.sample(min_data)])\n",
        "\n",
        "data_balanced"
      ],
      "metadata": {
        "colab": {
          "base_uri": "https://localhost:8080/",
          "height": 419
        },
        "id": "UfBLdKEP9QS8",
        "outputId": "8f52aea8-0d1d-4a30-f324-c4886b63ce5a"
      },
      "execution_count": 21,
      "outputs": [
        {
          "output_type": "execute_result",
          "data": {
            "text/html": [
              "<div>\n",
              "<style scoped>\n",
              "    .dataframe tbody tr th:only-of-type {\n",
              "        vertical-align: middle;\n",
              "    }\n",
              "\n",
              "    .dataframe tbody tr th {\n",
              "        vertical-align: top;\n",
              "    }\n",
              "\n",
              "    .dataframe thead th {\n",
              "        text-align: right;\n",
              "    }\n",
              "</style>\n",
              "<table border=\"1\" class=\"dataframe\">\n",
              "  <thead>\n",
              "    <tr style=\"text-align: right;\">\n",
              "      <th></th>\n",
              "      <th>raw</th>\n",
              "      <th>processed</th>\n",
              "      <th>label</th>\n",
              "    </tr>\n",
              "  </thead>\n",
              "  <tbody>\n",
              "    <tr>\n",
              "      <th>14</th>\n",
              "      <td>Pengiriman super lama dan salah; lalu yang dik...</td>\n",
              "      <td>kirim super lama dan salah lalu yang kirim ada...</td>\n",
              "      <td>0</td>\n",
              "    </tr>\n",
              "    <tr>\n",
              "      <th>47936</th>\n",
              "      <td>kali ini jabodetabek terproses 6hari</td>\n",
              "      <td>kali ini jabodetabek proses hari</td>\n",
              "      <td>0</td>\n",
              "    </tr>\n",
              "    <tr>\n",
              "      <th>47421</th>\n",
              "      <td>Beli tgl 21 Juni; tertera di app akan sampe tg...</td>\n",
              "      <td>beli tanggal juni tera di app akan sampai tang...</td>\n",
              "      <td>0</td>\n",
              "    </tr>\n",
              "    <tr>\n",
              "      <th>27</th>\n",
              "      <td>satunya 940 Ml;; satunya cuma 670 Ml...padahal...</td>\n",
              "      <td>satu ml satu cuma ml padahal official store</td>\n",
              "      <td>0</td>\n",
              "    </tr>\n",
              "    <tr>\n",
              "      <th>44169</th>\n",
              "      <td>Expire date sisa 8 bln aja; mepet. Proses sell...</td>\n",
              "      <td>expire date sisa bulan saja dekat sekali prose...</td>\n",
              "      <td>0</td>\n",
              "    </tr>\n",
              "    <tr>\n",
              "      <th>...</th>\n",
              "      <td>...</td>\n",
              "      <td>...</td>\n",
              "      <td>...</td>\n",
              "    </tr>\n",
              "    <tr>\n",
              "      <th>13950</th>\n",
              "      <td>kualitas produk sangat baik packaging aman pen...</td>\n",
              "      <td>kualitas produk sangat baik packaging aman kir...</td>\n",
              "      <td>1</td>\n",
              "    </tr>\n",
              "    <tr>\n",
              "      <th>45316</th>\n",
              "      <td>pengiriman sangat cepat..tengah mlm pesan;sore...</td>\n",
              "      <td>kirim sangat cepat tengah malam pesan sore sud...</td>\n",
              "      <td>1</td>\n",
              "    </tr>\n",
              "    <tr>\n",
              "      <th>36561</th>\n",
              "      <td>kardusnya penyok tapi dalam aman utuh tidak bo...</td>\n",
              "      <td>kardus penyok tapi dalam aman utuh tidak bocor</td>\n",
              "      <td>1</td>\n",
              "    </tr>\n",
              "    <tr>\n",
              "      <th>47072</th>\n",
              "      <td>Puas dengan produk cuma mungkin pengemasan aga...</td>\n",
              "      <td>puas dengan produk cuma mungkin emas agak lebi...</td>\n",
              "      <td>1</td>\n",
              "    </tr>\n",
              "    <tr>\n",
              "      <th>34955</th>\n",
              "      <td>kilat sampai nya; dpt bonus ponds</td>\n",
              "      <td>kilat sampai nya dapat bonus ponds</td>\n",
              "      <td>1</td>\n",
              "    </tr>\n",
              "  </tbody>\n",
              "</table>\n",
              "<p>7664 rows × 3 columns</p>\n",
              "</div>"
            ],
            "text/plain": [
              "                                                     raw  ... label\n",
              "14     Pengiriman super lama dan salah; lalu yang dik...  ...     0\n",
              "47936               kali ini jabodetabek terproses 6hari  ...     0\n",
              "47421  Beli tgl 21 Juni; tertera di app akan sampe tg...  ...     0\n",
              "27     satunya 940 Ml;; satunya cuma 670 Ml...padahal...  ...     0\n",
              "44169  Expire date sisa 8 bln aja; mepet. Proses sell...  ...     0\n",
              "...                                                  ...  ...   ...\n",
              "13950  kualitas produk sangat baik packaging aman pen...  ...     1\n",
              "45316  pengiriman sangat cepat..tengah mlm pesan;sore...  ...     1\n",
              "36561  kardusnya penyok tapi dalam aman utuh tidak bo...  ...     1\n",
              "47072  Puas dengan produk cuma mungkin pengemasan aga...  ...     1\n",
              "34955                  kilat sampai nya; dpt bonus ponds  ...     1\n",
              "\n",
              "[7664 rows x 3 columns]"
            ]
          },
          "metadata": {},
          "execution_count": 21
        }
      ]
    },
    {
      "cell_type": "markdown",
      "metadata": {
        "id": "QPdBF0VSiWZ8"
      },
      "source": [
        "# Visualize balanced data"
      ]
    },
    {
      "cell_type": "code",
      "source": [
        "import seaborn as sns\n",
        "ax = sns.countplot(x=\"label\", data=data_balanced)"
      ],
      "metadata": {
        "colab": {
          "base_uri": "https://localhost:8080/",
          "height": 282
        },
        "id": "sQ-wNGN5-beO",
        "outputId": "21b53cbd-e3d4-4f78-a4e6-0c252f3d9b48"
      },
      "execution_count": 22,
      "outputs": [
        {
          "output_type": "display_data",
          "data": {
            "image/png": "[encoded data removed]",
            "text/plain": [
              "<Figure size 432x288 with 1 Axes>"
            ]
          },
          "metadata": {
            "needs_background": "light"
          }
        }
      ]
    },
    {
      "cell_type": "markdown",
      "source": [
        "# Write data balanced"
      ],
      "metadata": {
        "id": "BYLLnA3D-6Af"
      }
    },
    {
      "cell_type": "code",
      "source": [
        "data_balanced.to_csv('data_balanced.csv', index=False)"
      ],
      "metadata": {
        "id": "mlOCsfSs-5hi"
      },
      "execution_count": 23,
      "outputs": []
    },
    {
      "cell_type": "markdown",
      "metadata": {
        "id": "htD-qb6phYKq"
      },
      "source": [
        "# Tokenizer data"
      ]
    },
    {
      "cell_type": "code",
      "metadata": {
        "colab": {
          "base_uri": "https://localhost:8080/"
        },
        "id": "GzQYkA9fTRZP",
        "outputId": "b5c7a22e-a1e7-45b4-c296-5951a21e463b"
      },
      "source": [
        "from keras.preprocessing.text import Tokenizer\n",
        "\n",
        "tokenizer = Tokenizer(filters='!\"#$%&()*+,-./:;<=>?@[\\\\]^_`{|}~\\t\\n', lower=True)\n",
        "tokenizer.fit_on_texts(data_balanced['processed'].values)\n",
        "\n",
        "print('Found %s total vocabulary.' % len(tokenizer.word_index))"
      ],
      "execution_count": 24,
      "outputs": [
        {
          "output_type": "stream",
          "name": "stdout",
          "text": [
            "Found 4629 total vocabulary.\n"
          ]
        }
      ]
    },
    {
      "cell_type": "code",
      "metadata": {
        "id": "hlYUPKYGJ3IO"
      },
      "source": [
        "# saving tokenizer\n",
        "import pickle\n",
        "with open('tokenizer.pickle', 'wb') as handle:\n",
        "    pickle.dump(tokenizer, handle, protocol=2)"
      ],
      "execution_count": 25,
      "outputs": []
    },
    {
      "cell_type": "code",
      "metadata": {
        "id": "EKyBrNTUZ99n"
      },
      "source": [
        "X = tokenizer.texts_to_sequences(data_balanced['processed'].values)"
      ],
      "execution_count": 26,
      "outputs": []
    },
    {
      "cell_type": "code",
      "metadata": {
        "colab": {
          "base_uri": "https://localhost:8080/"
        },
        "id": "OQi73xvpJdHe",
        "outputId": "55fbfc04-5ac2-4422-e911-de974a86031c"
      },
      "source": [
        "print(\"Max sentence length: \", max([len(sen) for sen in X]))"
      ],
      "execution_count": 27,
      "outputs": [
        {
          "output_type": "stream",
          "name": "stdout",
          "text": [
            "Max sentence length:  193\n"
          ]
        }
      ]
    },
    {
      "cell_type": "markdown",
      "metadata": {
        "id": "Izf1GX1mhvL8"
      },
      "source": [
        "# Set X and Y variabel\n",
        "\n",
        "\n",
        "*   X from data tokenizer with max words= 50\n",
        "*   Y from sentiment label\n",
        "\n"
      ]
    },
    {
      "cell_type": "code",
      "metadata": {
        "colab": {
          "base_uri": "https://localhost:8080/"
        },
        "id": "IfiAZcNZdrs-",
        "outputId": "57eab3b0-8fa4-4a24-95ec-956374ee27e6"
      },
      "source": [
        "from keras.preprocessing.sequence import pad_sequences\n",
        "\n",
        "max_words = 50\n",
        "X = pad_sequences(X, maxlen = max_words, padding = 'post')\n",
        "\n",
        "print('Shape of data tensor: ', X.shape)\n",
        "\n",
        "Y = pd.get_dummies(data_balanced['label']).values\n",
        "\n",
        "print('Shape of label tensor: ', Y.shape)"
      ],
      "execution_count": 28,
      "outputs": [
        {
          "output_type": "stream",
          "name": "stdout",
          "text": [
            "Shape of data tensor:  (7664, 50)\n",
            "Shape of label tensor:  (7664, 2)\n"
          ]
        }
      ]
    },
    {
      "cell_type": "markdown",
      "metadata": {
        "id": "68qoV1uxic0E"
      },
      "source": [
        "# Data splitting"
      ]
    },
    {
      "cell_type": "code",
      "metadata": {
        "colab": {
          "base_uri": "https://localhost:8080/"
        },
        "id": "AWm4uQ3tglp1",
        "outputId": "451fc912-8491-45d8-ba4e-221c7db6a198"
      },
      "source": [
        "from sklearn.model_selection import train_test_split\n",
        "\n",
        "X_train, X_test, Y_train, Y_test = train_test_split(X, Y, test_size = 0.10, random_state=42)\n",
        "\n",
        "print('Shape of data tensor of train: ', X_train.shape)\n",
        "print('Shape of data tensor of test: ', X_test.shape)\n",
        "print('Shape of label tensor of train: ', Y_train.shape)\n",
        "print('Shape of label tensor of test: ', Y_test.shape)"
      ],
      "execution_count": 29,
      "outputs": [
        {
          "output_type": "stream",
          "name": "stdout",
          "text": [
            "Shape of data tensor of train:  (6897, 50)\n",
            "Shape of data tensor of test:  (767, 50)\n",
            "Shape of label tensor of train:  (6897, 2)\n",
            "Shape of label tensor of test:  (767, 2)\n"
          ]
        }
      ]
    },
    {
      "cell_type": "markdown",
      "metadata": {
        "id": "ZD0xLV-gigET"
      },
      "source": [
        "# Write splitted data to csv"
      ]
    },
    {
      "cell_type": "code",
      "metadata": {
        "id": "DJWfWcaPbEWW"
      },
      "source": [
        "import numpy as np\n",
        "import pandas as pd\n",
        "\n",
        "data_x_train = pd.DataFrame(X_train)\n",
        "data_y_train = pd.DataFrame(Y_train)\n",
        "\n",
        "data_x_test = pd.DataFrame(X_test)\n",
        "data_y_test = pd.DataFrame(Y_test)\n",
        "\n",
        "data_x_train.to_csv('data_x_train.csv', index=False)\n",
        "data_y_train.to_csv('data_y_train.csv', index=False)\n",
        "data_x_test.to_csv('data_x_test.csv', index=False)\n",
        "data_y_test.to_csv('data_y_test.csv', index=False)"
      ],
      "execution_count": 30,
      "outputs": []
    }
  ]
}